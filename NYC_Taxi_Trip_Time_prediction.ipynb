{
  "nbformat": 4,
  "nbformat_minor": 0,
  "metadata": {
    "colab": {
      "name": "NYC Taxi Trip Time prediction.ipynb",
      "provenance": [],
      "collapsed_sections": [],
      "include_colab_link": true
    },
    "kernelspec": {
      "name": "python3",
      "display_name": "Python 3"
    },
    "language_info": {
      "name": "python"
    }
  },
  "cells": [
    {
      "cell_type": "markdown",
      "metadata": {
        "id": "view-in-github",
        "colab_type": "text"
      },
      "source": [
        "<a href=\"https://colab.research.google.com/github/AmirKhan6219/NYC-Taxi-Trip-Time-Prediction/blob/main/NYC_Taxi_Trip_Time_prediction.ipynb\" target=\"_parent\"><img src=\"https://colab.research.google.com/assets/colab-badge.svg\" alt=\"Open In Colab\"/></a>"
      ]
    },
    {
      "cell_type": "code",
      "metadata": {
        "id": "xcrAoVuPxGWU"
      },
      "source": [
        "import numpy as np\n",
        "import pandas as pd\n",
        "import seaborn as sns\n",
        "import matplotlib.pyplot as plt"
      ],
      "execution_count": 3,
      "outputs": []
    },
    {
      "cell_type": "code",
      "metadata": {
        "colab": {
          "base_uri": "https://localhost:8080/"
        },
        "id": "XMynM444lB4L",
        "outputId": "80b12496-62c7-4d44-83a0-1f2a37b927df"
      },
      "source": [
        "from google.colab import drive\n",
        "drive.mount('/content/drive')"
      ],
      "execution_count": 4,
      "outputs": [
        {
          "output_type": "stream",
          "name": "stdout",
          "text": [
            "Mounted at /content/drive\n"
          ]
        }
      ]
    },
    {
      "cell_type": "code",
      "metadata": {
        "id": "XwS-ljrSxMJc"
      },
      "source": [
        "data= pd.read_csv('/content/drive/MyDrive/ML projects/NYC Taxi Data.csv')"
      ],
      "execution_count": 5,
      "outputs": []
    },
    {
      "cell_type": "code",
      "metadata": {
        "colab": {
          "base_uri": "https://localhost:8080/",
          "height": 306
        },
        "id": "6l-Qkxp3yRDd",
        "outputId": "2a4be0d0-84d3-4abe-9e8d-e62826d2c648"
      },
      "source": [
        "data.head()"
      ],
      "execution_count": 6,
      "outputs": [
        {
          "output_type": "execute_result",
          "data": {
            "text/html": [
              "<div>\n",
              "<style scoped>\n",
              "    .dataframe tbody tr th:only-of-type {\n",
              "        vertical-align: middle;\n",
              "    }\n",
              "\n",
              "    .dataframe tbody tr th {\n",
              "        vertical-align: top;\n",
              "    }\n",
              "\n",
              "    .dataframe thead th {\n",
              "        text-align: right;\n",
              "    }\n",
              "</style>\n",
              "<table border=\"1\" class=\"dataframe\">\n",
              "  <thead>\n",
              "    <tr style=\"text-align: right;\">\n",
              "      <th></th>\n",
              "      <th>id</th>\n",
              "      <th>vendor_id</th>\n",
              "      <th>pickup_datetime</th>\n",
              "      <th>dropoff_datetime</th>\n",
              "      <th>passenger_count</th>\n",
              "      <th>pickup_longitude</th>\n",
              "      <th>pickup_latitude</th>\n",
              "      <th>dropoff_longitude</th>\n",
              "      <th>dropoff_latitude</th>\n",
              "      <th>store_and_fwd_flag</th>\n",
              "      <th>trip_duration</th>\n",
              "    </tr>\n",
              "  </thead>\n",
              "  <tbody>\n",
              "    <tr>\n",
              "      <th>0</th>\n",
              "      <td>id2875421</td>\n",
              "      <td>2</td>\n",
              "      <td>2016-03-14 17:24:55</td>\n",
              "      <td>2016-03-14 17:32:30</td>\n",
              "      <td>1</td>\n",
              "      <td>-73.982155</td>\n",
              "      <td>40.767937</td>\n",
              "      <td>-73.964630</td>\n",
              "      <td>40.765602</td>\n",
              "      <td>N</td>\n",
              "      <td>455</td>\n",
              "    </tr>\n",
              "    <tr>\n",
              "      <th>1</th>\n",
              "      <td>id2377394</td>\n",
              "      <td>1</td>\n",
              "      <td>2016-06-12 00:43:35</td>\n",
              "      <td>2016-06-12 00:54:38</td>\n",
              "      <td>1</td>\n",
              "      <td>-73.980415</td>\n",
              "      <td>40.738564</td>\n",
              "      <td>-73.999481</td>\n",
              "      <td>40.731152</td>\n",
              "      <td>N</td>\n",
              "      <td>663</td>\n",
              "    </tr>\n",
              "    <tr>\n",
              "      <th>2</th>\n",
              "      <td>id3858529</td>\n",
              "      <td>2</td>\n",
              "      <td>2016-01-19 11:35:24</td>\n",
              "      <td>2016-01-19 12:10:48</td>\n",
              "      <td>1</td>\n",
              "      <td>-73.979027</td>\n",
              "      <td>40.763939</td>\n",
              "      <td>-74.005333</td>\n",
              "      <td>40.710087</td>\n",
              "      <td>N</td>\n",
              "      <td>2124</td>\n",
              "    </tr>\n",
              "    <tr>\n",
              "      <th>3</th>\n",
              "      <td>id3504673</td>\n",
              "      <td>2</td>\n",
              "      <td>2016-04-06 19:32:31</td>\n",
              "      <td>2016-04-06 19:39:40</td>\n",
              "      <td>1</td>\n",
              "      <td>-74.010040</td>\n",
              "      <td>40.719971</td>\n",
              "      <td>-74.012268</td>\n",
              "      <td>40.706718</td>\n",
              "      <td>N</td>\n",
              "      <td>429</td>\n",
              "    </tr>\n",
              "    <tr>\n",
              "      <th>4</th>\n",
              "      <td>id2181028</td>\n",
              "      <td>2</td>\n",
              "      <td>2016-03-26 13:30:55</td>\n",
              "      <td>2016-03-26 13:38:10</td>\n",
              "      <td>1</td>\n",
              "      <td>-73.973053</td>\n",
              "      <td>40.793209</td>\n",
              "      <td>-73.972923</td>\n",
              "      <td>40.782520</td>\n",
              "      <td>N</td>\n",
              "      <td>435</td>\n",
              "    </tr>\n",
              "  </tbody>\n",
              "</table>\n",
              "</div>"
            ],
            "text/plain": [
              "          id  vendor_id  ... store_and_fwd_flag trip_duration\n",
              "0  id2875421          2  ...                  N           455\n",
              "1  id2377394          1  ...                  N           663\n",
              "2  id3858529          2  ...                  N          2124\n",
              "3  id3504673          2  ...                  N           429\n",
              "4  id2181028          2  ...                  N           435\n",
              "\n",
              "[5 rows x 11 columns]"
            ]
          },
          "metadata": {},
          "execution_count": 6
        }
      ]
    },
    {
      "cell_type": "markdown",
      "metadata": {
        "id": "sKSKRKEFyvNE"
      },
      "source": [
        "Check number of rows and columns in our dataset."
      ]
    },
    {
      "cell_type": "code",
      "metadata": {
        "colab": {
          "base_uri": "https://localhost:8080/"
        },
        "id": "V65fvfNTyi6Q",
        "outputId": "98868c45-51f7-488b-8269-aada054397e6"
      },
      "source": [
        "print(\"Number of rows is: \", data.shape[0])\n",
        "print(\"Number of columns is: \", data.shape[1])"
      ],
      "execution_count": 7,
      "outputs": [
        {
          "output_type": "stream",
          "name": "stdout",
          "text": [
            "Number of rows is:  1458644\n",
            "Number of columns is:  11\n"
          ]
        }
      ]
    },
    {
      "cell_type": "code",
      "metadata": {
        "colab": {
          "base_uri": "https://localhost:8080/"
        },
        "id": "UK756OAkyyxx",
        "outputId": "7f4aef0e-ce5f-4dbf-82d6-69ed7d105d8a"
      },
      "source": [
        "data.columns"
      ],
      "execution_count": 8,
      "outputs": [
        {
          "output_type": "execute_result",
          "data": {
            "text/plain": [
              "Index(['id', 'vendor_id', 'pickup_datetime', 'dropoff_datetime',\n",
              "       'passenger_count', 'pickup_longitude', 'pickup_latitude',\n",
              "       'dropoff_longitude', 'dropoff_latitude', 'store_and_fwd_flag',\n",
              "       'trip_duration'],\n",
              "      dtype='object')"
            ]
          },
          "metadata": {},
          "execution_count": 8
        }
      ]
    },
    {
      "cell_type": "code",
      "metadata": {
        "colab": {
          "base_uri": "https://localhost:8080/"
        },
        "id": "-JwMxAEJIkIE",
        "outputId": "4dfdb130-9823-4f47-8d12-0cc94cc16e19"
      },
      "source": [
        "print( 'We have %d unique id in our dataset ' %(data.id.nunique()))"
      ],
      "execution_count": 9,
      "outputs": [
        {
          "output_type": "stream",
          "name": "stdout",
          "text": [
            "We have 1458644 unique id in our dataset \n"
          ]
        }
      ]
    },
    {
      "cell_type": "code",
      "metadata": {
        "colab": {
          "base_uri": "https://localhost:8080/"
        },
        "id": "2Zt0MoBjItDF",
        "outputId": "391783d7-2fc9-4b71-87a1-5c783ad88381"
      },
      "source": [
        "data.isnull().sum()"
      ],
      "execution_count": 10,
      "outputs": [
        {
          "output_type": "execute_result",
          "data": {
            "text/plain": [
              "id                    0\n",
              "vendor_id             0\n",
              "pickup_datetime       0\n",
              "dropoff_datetime      0\n",
              "passenger_count       0\n",
              "pickup_longitude      0\n",
              "pickup_latitude       0\n",
              "dropoff_longitude     0\n",
              "dropoff_latitude      0\n",
              "store_and_fwd_flag    0\n",
              "trip_duration         0\n",
              "dtype: int64"
            ]
          },
          "metadata": {},
          "execution_count": 10
        }
      ]
    },
    {
      "cell_type": "markdown",
      "metadata": {
        "id": "wMDncjq3IzOu"
      },
      "source": [
        " Looking at the datatypes of all features."
      ]
    },
    {
      "cell_type": "code",
      "metadata": {
        "colab": {
          "base_uri": "https://localhost:8080/"
        },
        "id": "mPjeqOzrI4_e",
        "outputId": "e8efce97-2982-4e7c-b5cb-f6f92df416e4"
      },
      "source": [
        "data.dtypes"
      ],
      "execution_count": 11,
      "outputs": [
        {
          "output_type": "execute_result",
          "data": {
            "text/plain": [
              "id                     object\n",
              "vendor_id               int64\n",
              "pickup_datetime        object\n",
              "dropoff_datetime       object\n",
              "passenger_count         int64\n",
              "pickup_longitude      float64\n",
              "pickup_latitude       float64\n",
              "dropoff_longitude     float64\n",
              "dropoff_latitude      float64\n",
              "store_and_fwd_flag     object\n",
              "trip_duration           int64\n",
              "dtype: object"
            ]
          },
          "metadata": {},
          "execution_count": 11
        }
      ]
    },
    {
      "cell_type": "markdown",
      "metadata": {
        "id": "Fmdnw19CJAGJ"
      },
      "source": [
        "We have pickup_datetime, dropoff_datetime of the type 'object'. Convert it into type 'datetime'."
      ]
    },
    {
      "cell_type": "code",
      "metadata": {
        "id": "u5b6DOmtJA-c"
      },
      "source": [
        "data['pickup_datetime'] = pd.to_datetime(data['pickup_datetime'])\n",
        "data['dropoff_datetime'] = pd.to_datetime(data['dropoff_datetime'])"
      ],
      "execution_count": 12,
      "outputs": []
    },
    {
      "cell_type": "markdown",
      "metadata": {
        "id": "KKS0vA27jbjt"
      },
      "source": [
        "Now, let us extract and create new features from this datetime features we just created."
      ]
    },
    {
      "cell_type": "code",
      "metadata": {
        "id": "l2Le9s0VhILC"
      },
      "source": [
        "data['pickup_weekday']=data['pickup_datetime'].dt.day_name()"
      ],
      "execution_count": 13,
      "outputs": []
    },
    {
      "cell_type": "code",
      "metadata": {
        "id": "7W1E4V9whIIM"
      },
      "source": [
        "data['dropoff_weekday']=data['dropoff_datetime'].dt.day_name()"
      ],
      "execution_count": 14,
      "outputs": []
    },
    {
      "cell_type": "code",
      "metadata": {
        "id": "1uHSJGiFhIEj"
      },
      "source": [
        "data['pickup_weekday_num']=data['pickup_datetime'].dt.weekday"
      ],
      "execution_count": 15,
      "outputs": []
    },
    {
      "cell_type": "code",
      "metadata": {
        "id": "OhQnxR_6hICn"
      },
      "source": [
        "data['pickup_hour']=data['pickup_datetime'].dt.hour"
      ],
      "execution_count": 16,
      "outputs": []
    },
    {
      "cell_type": "code",
      "metadata": {
        "id": "agDxV8mOhH_U"
      },
      "source": [
        "data['month']=data['pickup_datetime'].dt.month"
      ],
      "execution_count": 17,
      "outputs": []
    },
    {
      "cell_type": "markdown",
      "metadata": {
        "id": "5qvJxF-tj1oH"
      },
      "source": [
        "*   pickup_weekday which will contain the name of the day on which the \n",
        "ride was taken.\n",
        "*   pickup_weekday_num which will contain the day number instead of characters with Monday=0 and Sunday=6.\n",
        "\n",
        "*   pickup_hour with an hour of the day in the 24-hour format.\n",
        "*   pickup_month with month number with January=1 and December=12."
      ]
    },
    {
      "cell_type": "code",
      "metadata": {
        "id": "lrZtB9RWhH9I"
      },
      "source": [
        "# lets calculate distance using given variables longitude and latitude\n",
        "from geopy.distance import great_circle"
      ],
      "execution_count": 18,
      "outputs": []
    },
    {
      "cell_type": "code",
      "metadata": {
        "id": "OWe9oCaDhH4j"
      },
      "source": [
        "def cal_distance(pickup_lat,pickup_long,dropoff_lat,dropoff_long):\n",
        " \n",
        " start_coordinates=(pickup_lat,pickup_long)\n",
        " stop_coordinates=(dropoff_lat,dropoff_long)\n",
        " \n",
        " return great_circle(start_coordinates,stop_coordinates).km"
      ],
      "execution_count": 19,
      "outputs": []
    },
    {
      "cell_type": "code",
      "metadata": {
        "id": "3VqFmxUmkI2M"
      },
      "source": [
        "data['distance'] = data.apply(lambda x: cal_distance(x['pickup_latitude'],x['pickup_longitude'],x['dropoff_latitude'],x['dropoff_longitude'] ), axis=1)"
      ],
      "execution_count": 20,
      "outputs": []
    },
    {
      "cell_type": "code",
      "metadata": {
        "id": "zDa0dfNGkIyn"
      },
      "source": [
        "# calculating the speed  \n",
        "data['speed'] = (data.distance/(data.trip_duration/3600))"
      ],
      "execution_count": 21,
      "outputs": []
    },
    {
      "cell_type": "code",
      "metadata": {
        "colab": {
          "base_uri": "https://localhost:8080/"
        },
        "id": "k-MykS99kIws",
        "outputId": "363e3bf6-c9d3-4f4a-eb1c-30b2f3f97680"
      },
      "source": [
        "data.dtypes"
      ],
      "execution_count": 22,
      "outputs": [
        {
          "output_type": "execute_result",
          "data": {
            "text/plain": [
              "id                            object\n",
              "vendor_id                      int64\n",
              "pickup_datetime       datetime64[ns]\n",
              "dropoff_datetime      datetime64[ns]\n",
              "passenger_count                int64\n",
              "pickup_longitude             float64\n",
              "pickup_latitude              float64\n",
              "dropoff_longitude            float64\n",
              "dropoff_latitude             float64\n",
              "store_and_fwd_flag            object\n",
              "trip_duration                  int64\n",
              "pickup_weekday                object\n",
              "dropoff_weekday               object\n",
              "pickup_weekday_num             int64\n",
              "pickup_hour                    int64\n",
              "month                          int64\n",
              "distance                     float64\n",
              "speed                        float64\n",
              "dtype: object"
            ]
          },
          "metadata": {},
          "execution_count": 22
        }
      ]
    },
    {
      "cell_type": "code",
      "metadata": {
        "id": "Vv7ErEFMlogQ"
      },
      "source": [
        "# lets create different timezones , morning afternoon evening late night\n",
        "def time_of_day(x):\n",
        "    if x in range(6,12):\n",
        "        return 'Morning'\n",
        "    elif x in range(12,16):\n",
        "        return 'Afternoon'\n",
        "    elif x in range(16,22):\n",
        "        return 'Evening'\n",
        "    else:\n",
        "        return 'Late night'"
      ],
      "execution_count": 23,
      "outputs": []
    },
    {
      "cell_type": "code",
      "metadata": {
        "id": "4vaV8v6dloc5"
      },
      "source": [
        "data['pickup_timeofday']=data['pickup_hour'].apply(time_of_day)"
      ],
      "execution_count": 24,
      "outputs": []
    },
    {
      "cell_type": "code",
      "metadata": {
        "colab": {
          "base_uri": "https://localhost:8080/",
          "height": 306
        },
        "id": "paJoWR2Eloba",
        "outputId": "37d8238b-6c2a-4ad7-b14d-ca4d720936e8"
      },
      "source": [
        "data.head()"
      ],
      "execution_count": 25,
      "outputs": [
        {
          "output_type": "execute_result",
          "data": {
            "text/html": [
              "<div>\n",
              "<style scoped>\n",
              "    .dataframe tbody tr th:only-of-type {\n",
              "        vertical-align: middle;\n",
              "    }\n",
              "\n",
              "    .dataframe tbody tr th {\n",
              "        vertical-align: top;\n",
              "    }\n",
              "\n",
              "    .dataframe thead th {\n",
              "        text-align: right;\n",
              "    }\n",
              "</style>\n",
              "<table border=\"1\" class=\"dataframe\">\n",
              "  <thead>\n",
              "    <tr style=\"text-align: right;\">\n",
              "      <th></th>\n",
              "      <th>id</th>\n",
              "      <th>vendor_id</th>\n",
              "      <th>pickup_datetime</th>\n",
              "      <th>dropoff_datetime</th>\n",
              "      <th>passenger_count</th>\n",
              "      <th>pickup_longitude</th>\n",
              "      <th>pickup_latitude</th>\n",
              "      <th>dropoff_longitude</th>\n",
              "      <th>dropoff_latitude</th>\n",
              "      <th>store_and_fwd_flag</th>\n",
              "      <th>trip_duration</th>\n",
              "      <th>pickup_weekday</th>\n",
              "      <th>dropoff_weekday</th>\n",
              "      <th>pickup_weekday_num</th>\n",
              "      <th>pickup_hour</th>\n",
              "      <th>month</th>\n",
              "      <th>distance</th>\n",
              "      <th>speed</th>\n",
              "      <th>pickup_timeofday</th>\n",
              "    </tr>\n",
              "  </thead>\n",
              "  <tbody>\n",
              "    <tr>\n",
              "      <th>0</th>\n",
              "      <td>id2875421</td>\n",
              "      <td>2</td>\n",
              "      <td>2016-03-14 17:24:55</td>\n",
              "      <td>2016-03-14 17:32:30</td>\n",
              "      <td>1</td>\n",
              "      <td>-73.982155</td>\n",
              "      <td>40.767937</td>\n",
              "      <td>-73.964630</td>\n",
              "      <td>40.765602</td>\n",
              "      <td>N</td>\n",
              "      <td>455</td>\n",
              "      <td>Monday</td>\n",
              "      <td>Monday</td>\n",
              "      <td>0</td>\n",
              "      <td>17</td>\n",
              "      <td>3</td>\n",
              "      <td>1.498523</td>\n",
              "      <td>11.856445</td>\n",
              "      <td>Evening</td>\n",
              "    </tr>\n",
              "    <tr>\n",
              "      <th>1</th>\n",
              "      <td>id2377394</td>\n",
              "      <td>1</td>\n",
              "      <td>2016-06-12 00:43:35</td>\n",
              "      <td>2016-06-12 00:54:38</td>\n",
              "      <td>1</td>\n",
              "      <td>-73.980415</td>\n",
              "      <td>40.738564</td>\n",
              "      <td>-73.999481</td>\n",
              "      <td>40.731152</td>\n",
              "      <td>N</td>\n",
              "      <td>663</td>\n",
              "      <td>Sunday</td>\n",
              "      <td>Sunday</td>\n",
              "      <td>6</td>\n",
              "      <td>0</td>\n",
              "      <td>6</td>\n",
              "      <td>1.805510</td>\n",
              "      <td>9.803673</td>\n",
              "      <td>Late night</td>\n",
              "    </tr>\n",
              "    <tr>\n",
              "      <th>2</th>\n",
              "      <td>id3858529</td>\n",
              "      <td>2</td>\n",
              "      <td>2016-01-19 11:35:24</td>\n",
              "      <td>2016-01-19 12:10:48</td>\n",
              "      <td>1</td>\n",
              "      <td>-73.979027</td>\n",
              "      <td>40.763939</td>\n",
              "      <td>-74.005333</td>\n",
              "      <td>40.710087</td>\n",
              "      <td>N</td>\n",
              "      <td>2124</td>\n",
              "      <td>Tuesday</td>\n",
              "      <td>Tuesday</td>\n",
              "      <td>1</td>\n",
              "      <td>11</td>\n",
              "      <td>1</td>\n",
              "      <td>6.385108</td>\n",
              "      <td>10.822216</td>\n",
              "      <td>Morning</td>\n",
              "    </tr>\n",
              "    <tr>\n",
              "      <th>3</th>\n",
              "      <td>id3504673</td>\n",
              "      <td>2</td>\n",
              "      <td>2016-04-06 19:32:31</td>\n",
              "      <td>2016-04-06 19:39:40</td>\n",
              "      <td>1</td>\n",
              "      <td>-74.010040</td>\n",
              "      <td>40.719971</td>\n",
              "      <td>-74.012268</td>\n",
              "      <td>40.706718</td>\n",
              "      <td>N</td>\n",
              "      <td>429</td>\n",
              "      <td>Wednesday</td>\n",
              "      <td>Wednesday</td>\n",
              "      <td>2</td>\n",
              "      <td>19</td>\n",
              "      <td>4</td>\n",
              "      <td>1.485501</td>\n",
              "      <td>12.465739</td>\n",
              "      <td>Evening</td>\n",
              "    </tr>\n",
              "    <tr>\n",
              "      <th>4</th>\n",
              "      <td>id2181028</td>\n",
              "      <td>2</td>\n",
              "      <td>2016-03-26 13:30:55</td>\n",
              "      <td>2016-03-26 13:38:10</td>\n",
              "      <td>1</td>\n",
              "      <td>-73.973053</td>\n",
              "      <td>40.793209</td>\n",
              "      <td>-73.972923</td>\n",
              "      <td>40.782520</td>\n",
              "      <td>N</td>\n",
              "      <td>435</td>\n",
              "      <td>Saturday</td>\n",
              "      <td>Saturday</td>\n",
              "      <td>5</td>\n",
              "      <td>13</td>\n",
              "      <td>3</td>\n",
              "      <td>1.188590</td>\n",
              "      <td>9.836608</td>\n",
              "      <td>Afternoon</td>\n",
              "    </tr>\n",
              "  </tbody>\n",
              "</table>\n",
              "</div>"
            ],
            "text/plain": [
              "          id  vendor_id  ...      speed pickup_timeofday\n",
              "0  id2875421          2  ...  11.856445          Evening\n",
              "1  id2377394          1  ...   9.803673       Late night\n",
              "2  id3858529          2  ...  10.822216          Morning\n",
              "3  id3504673          2  ...  12.465739          Evening\n",
              "4  id2181028          2  ...   9.836608        Afternoon\n",
              "\n",
              "[5 rows x 19 columns]"
            ]
          },
          "metadata": {},
          "execution_count": 25
        }
      ]
    },
    {
      "cell_type": "code",
      "metadata": {
        "colab": {
          "base_uri": "https://localhost:8080/",
          "height": 400
        },
        "id": "7kwN3BMxloYI",
        "outputId": "19e374f8-dbae-4a38-a999-176510cc4c0a"
      },
      "source": [
        "# univeriate anaysis lets looking at target variable first\n",
        "plt.figure(figsize = (10,5))\n",
        "sns.distplot(data['trip_duration'])\n",
        "plt.show()"
      ],
      "execution_count": 26,
      "outputs": [
        {
          "output_type": "stream",
          "name": "stderr",
          "text": [
            "/usr/local/lib/python3.7/dist-packages/seaborn/distributions.py:2557: FutureWarning: `distplot` is a deprecated function and will be removed in a future version. Please adapt your code to use either `displot` (a figure-level function with similar flexibility) or `histplot` (an axes-level function for histograms).\n",
            "  warnings.warn(msg, FutureWarning)\n"
          ]
        },
        {
          "output_type": "display_data",
          "data": {
            "image/png": "[encoded data removed]",
            "text/plain": [
              "<Figure size 720x360 with 1 Axes>"
            ]
          },
          "metadata": {
            "needs_background": "light"
          }
        }
      ]
    },
    {
      "cell_type": "code",
      "metadata": {
        "colab": {
          "base_uri": "https://localhost:8080/",
          "height": 389
        },
        "id": "uzZvUurmloW3",
        "outputId": "41ffa294-8a2c-4f1b-d5c2-c8155163e3b4"
      },
      "source": [
        "# as we can see it tis highly right skewed we will normalize it by using log transformation\n",
        "plt.figure(figsize = (10,5))\n",
        "sns.distplot(np.log10(data['trip_duration']))\n",
        "plt.show()"
      ],
      "execution_count": 27,
      "outputs": [
        {
          "output_type": "stream",
          "name": "stderr",
          "text": [
            "/usr/local/lib/python3.7/dist-packages/seaborn/distributions.py:2557: FutureWarning: `distplot` is a deprecated function and will be removed in a future version. Please adapt your code to use either `displot` (a figure-level function with similar flexibility) or `histplot` (an axes-level function for histograms).\n",
            "  warnings.warn(msg, FutureWarning)\n"
          ]
        },
        {
          "output_type": "display_data",
          "data": {
            "image/png": "[encoded data removed]",
            "text/plain": [
              "<Figure size 720x360 with 1 Axes>"
            ]
          },
          "metadata": {
            "needs_background": "light"
          }
        }
      ]
    },
    {
      "cell_type": "markdown",
      "metadata": {
        "id": "XDkWa9hBmTgM"
      },
      "source": [
        "Lets deal with outliers"
      ]
    },
    {
      "cell_type": "code",
      "metadata": {
        "colab": {
          "base_uri": "https://localhost:8080/",
          "height": 389
        },
        "id": "FJJPcCcnmO-t",
        "outputId": "52aa775b-cd56-4ddd-c4bc-a75150177128"
      },
      "source": [
        "plt.figure(figsize = (10,5))\n",
        "sns.boxplot(data.trip_duration)\n",
        "plt.show()"
      ],
      "execution_count": 28,
      "outputs": [
        {
          "output_type": "stream",
          "name": "stderr",
          "text": [
            "/usr/local/lib/python3.7/dist-packages/seaborn/_decorators.py:43: FutureWarning: Pass the following variable as a keyword arg: x. From version 0.12, the only valid positional argument will be `data`, and passing other arguments without an explicit keyword will result in an error or misinterpretation.\n",
            "  FutureWarning\n"
          ]
        },
        {
          "output_type": "display_data",
          "data": {
            "image/png": "[encoded data removed]",
            "text/plain": [
              "<Figure size 720x360 with 1 Axes>"
            ]
          },
          "metadata": {
            "needs_background": "light"
          }
        }
      ]
    },
    {
      "cell_type": "markdown",
      "metadata": {
        "id": "JMF3ho-nmmNY"
      },
      "source": [
        "*   We can clearly see an outlier and should be removed for the data consistency.\n",
        "* Calclating 0-100th percentille to find a correct percentile value for removal of outliers."
      ]
    },
    {
      "cell_type": "code",
      "metadata": {
        "colab": {
          "base_uri": "https://localhost:8080/"
        },
        "id": "kP704g-mmdqQ",
        "outputId": "3cbc9371-1b63-4621-cf9e-6bfe4703a1a3"
      },
      "source": [
        "for i in range(0,100,10):\n",
        "  duration= data['trip_duration'].values\n",
        "  duration= np.sort(duration, axis= None)\n",
        "  print(\"{} percentile value is {}\".format(i, duration[int(len(duration)*(float(i)/100))]))\n",
        "print(\"100 percentile value is \",duration[-1])"
      ],
      "execution_count": 29,
      "outputs": [
        {
          "output_type": "stream",
          "name": "stdout",
          "text": [
            "0 percentile value is 1\n",
            "10 percentile value is 245\n",
            "20 percentile value is 348\n",
            "30 percentile value is 446\n",
            "40 percentile value is 548\n",
            "50 percentile value is 662\n",
            "60 percentile value is 798\n",
            "70 percentile value is 968\n",
            "80 percentile value is 1208\n",
            "90 percentile value is 1634\n",
            "100 percentile value is  3526282\n"
          ]
        }
      ]
    },
    {
      "cell_type": "markdown",
      "metadata": {
        "id": "lkdqj_ZAm2e0"
      },
      "source": [
        "Let's expand from 90th percentile to 100th percentile as to look further for the 99th percentile."
      ]
    },
    {
      "cell_type": "code",
      "metadata": {
        "colab": {
          "base_uri": "https://localhost:8080/"
        },
        "id": "aq0c9QWDmdnX",
        "outputId": "088a7c50-03c0-4984-e49d-005148d080b6"
      },
      "source": [
        "for i in range(90,100):\n",
        "  duration= data['trip_duration'].values\n",
        "  duration= np.sort(duration, axis= None)\n",
        "  print(\"{} percentile value is {}\".format(i, duration[int(len(duration)*(float(i)/100))]))\n",
        "print(\"100 percentile value is \",duration[-1])"
      ],
      "execution_count": 30,
      "outputs": [
        {
          "output_type": "stream",
          "name": "stdout",
          "text": [
            "90 percentile value is 1634\n",
            "91 percentile value is 1703\n",
            "92 percentile value is 1780\n",
            "93 percentile value is 1869\n",
            "94 percentile value is 1975\n",
            "95 percentile value is 2104\n",
            "96 percentile value is 2273\n",
            "97 percentile value is 2497\n",
            "98 percentile value is 2829\n",
            "99 percentile value is 3440\n",
            "100 percentile value is  3526282\n"
          ]
        }
      ]
    },
    {
      "cell_type": "markdown",
      "metadata": {
        "id": "nnLywgvMnLUG"
      },
      "source": [
        "We should get rid the outliers for the sake of data consistency. "
      ]
    },
    {
      "cell_type": "code",
      "metadata": {
        "id": "_FyayHuemdk6"
      },
      "source": [
        "data = data[data.trip_duration <= 86400]"
      ],
      "execution_count": 31,
      "outputs": []
    },
    {
      "cell_type": "code",
      "metadata": {
        "colab": {
          "base_uri": "https://localhost:8080/",
          "height": 389
        },
        "id": "y6YaGQX1mdif",
        "outputId": "f11efcf1-ff24-407f-ee85-9c29eb976b42"
      },
      "source": [
        "plt.figure(figsize = (10,5))\n",
        "sns.boxplot(data.trip_duration)\n",
        "plt.show()"
      ],
      "execution_count": 32,
      "outputs": [
        {
          "output_type": "stream",
          "name": "stderr",
          "text": [
            "/usr/local/lib/python3.7/dist-packages/seaborn/_decorators.py:43: FutureWarning: Pass the following variable as a keyword arg: x. From version 0.12, the only valid positional argument will be `data`, and passing other arguments without an explicit keyword will result in an error or misinterpretation.\n",
            "  FutureWarning\n"
          ]
        },
        {
          "output_type": "display_data",
          "data": {
            "image/png": "[encoded data removed]",
            "text/plain": [
              "<Figure size 720x360 with 1 Axes>"
            ]
          },
          "metadata": {
            "needs_background": "light"
          }
        }
      ]
    },
    {
      "cell_type": "code",
      "metadata": {
        "colab": {
          "base_uri": "https://localhost:8080/",
          "height": 388
        },
        "id": "FcyMkjVvmdfy",
        "outputId": "9d0a8a86-d74f-4424-a853-a8dcdef2b8a5"
      },
      "source": [
        "plt.figure(figsize = (10,5))\n",
        "data.trip_duration.groupby(pd.cut(data.trip_duration, np.arange(1,7200,600))).count().plot(kind='bar')\n",
        "plt.xlabel('Trip Counts')\n",
        "plt.ylabel('Trip Duration (seconds)')\n",
        "plt.show()"
      ],
      "execution_count": 33,
      "outputs": [
        {
          "output_type": "display_data",
          "data": {
            "image/png": "[encoded data removed]",
            "text/plain": [
              "<Figure size 720x360 with 1 Axes>"
            ]
          },
          "metadata": {
            "needs_background": "light"
          }
        }
      ]
    },
    {
      "cell_type": "markdown",
      "metadata": {
        "id": "WCdle6I2nbh9"
      },
      "source": [
        "*   Major trip durations took between 10-20 mins to complete.\n",
        "*   We can observe that most of the trips took 0 - 30 mins to complete i.e. approx 1800 secs. Let's move ahead to next feature.\n",
        "\n"
      ]
    },
    {
      "cell_type": "code",
      "metadata": {
        "colab": {
          "base_uri": "https://localhost:8080/",
          "height": 351
        },
        "id": "rjcoeCxNmddb",
        "outputId": "fc1aa9b4-63f6-45b6-9b94-eb7baf0fe2e8"
      },
      "source": [
        "# trips according to time zone\n",
        "\n",
        "plt.figure(figsize = (10,5))\n",
        "sns.countplot(x=\"pickup_timeofday\",data=data)\n",
        "plt.title('Pickup Time of Day')\n",
        "plt.show()"
      ],
      "execution_count": 35,
      "outputs": [
        {
          "output_type": "display_data",
          "data": {
            "image/png": "[encoded data removed]",
            "text/plain": [
              "<Figure size 720x360 with 1 Axes>"
            ]
          },
          "metadata": {
            "needs_background": "light"
          }
        }
      ]
    },
    {
      "cell_type": "code",
      "metadata": {
        "colab": {
          "base_uri": "https://localhost:8080/",
          "height": 389
        },
        "id": "Y4VOCo4jnd6s",
        "outputId": "c0c174ad-95c4-475f-ed63-cd6fb44e14d6"
      },
      "source": [
        "# vendor id\n",
        "plt.figure(figsize = (10,5))\n",
        "sns.countplot(data.vendor_id)\n",
        "plt.show()"
      ],
      "execution_count": 36,
      "outputs": [
        {
          "output_type": "stream",
          "name": "stderr",
          "text": [
            "/usr/local/lib/python3.7/dist-packages/seaborn/_decorators.py:43: FutureWarning: Pass the following variable as a keyword arg: x. From version 0.12, the only valid positional argument will be `data`, and passing other arguments without an explicit keyword will result in an error or misinterpretation.\n",
            "  FutureWarning\n"
          ]
        },
        {
          "output_type": "display_data",
          "data": {
            "image/png": "[encoded data removed]",
            "text/plain": [
              "<Figure size 720x360 with 1 Axes>"
            ]
          },
          "metadata": {
            "needs_background": "light"
          }
        }
      ]
    },
    {
      "cell_type": "code",
      "metadata": {
        "colab": {
          "base_uri": "https://localhost:8080/",
          "height": 361
        },
        "id": "Jd4rajBHno5o",
        "outputId": "b207ec08-4831-4614-ac5d-a3add3b2c60b"
      },
      "source": [
        "#passenger count\n",
        "plt.figure(figsize = (10,5))\n",
        "sns.countplot(x='passenger_count',data=data)"
      ],
      "execution_count": 37,
      "outputs": [
        {
          "output_type": "execute_result",
          "data": {
            "text/plain": [
              "<matplotlib.axes._subplots.AxesSubplot at 0x7f96df471450>"
            ]
          },
          "metadata": {},
          "execution_count": 37
        },
        {
          "output_type": "display_data",
          "data": {
            "image/png": "[encoded data removed]",
            "text/plain": [
              "<Figure size 720x360 with 1 Axes>"
            ]
          },
          "metadata": {
            "needs_background": "light"
          }
        }
      ]
    },
    {
      "cell_type": "markdown",
      "metadata": {
        "id": "UxsNQDeTnzyL"
      },
      "source": [
        "Let us remove the rows which have 0 or 7 or 9 passenger count."
      ]
    },
    {
      "cell_type": "code",
      "metadata": {
        "id": "zpoVbCn9nspU"
      },
      "source": [
        "data=data[data['passenger_count']!=0]\n",
        "data=data[data['passenger_count']<=6] "
      ],
      "execution_count": 38,
      "outputs": []
    },
    {
      "cell_type": "code",
      "metadata": {
        "colab": {
          "base_uri": "https://localhost:8080/",
          "height": 361
        },
        "id": "hKs1EEKEn2z8",
        "outputId": "5ad5617c-9472-4a98-a585-c892ef09dc0a"
      },
      "source": [
        "plt.figure(figsize = (10,5))\n",
        "sns.countplot(x='passenger_count',data=data)"
      ],
      "execution_count": 39,
      "outputs": [
        {
          "output_type": "execute_result",
          "data": {
            "text/plain": [
              "<matplotlib.axes._subplots.AxesSubplot at 0x7f96df862c50>"
            ]
          },
          "metadata": {},
          "execution_count": 39
        },
        {
          "output_type": "display_data",
          "data": {
            "image/png": "[encoded data removed]",
            "text/plain": [
              "<Figure size 720x360 with 1 Axes>"
            ]
          },
          "metadata": {
            "needs_background": "light"
          }
        }
      ]
    },
    {
      "cell_type": "markdown",
      "metadata": {
        "id": "V3dpYvA4oBUo"
      },
      "source": [
        "*   We see the highest amount of trips was taken by a single passenger.\n",
        "*   The instance of large group of people travelling together is rare.\n",
        "\n",
        "\n"
      ]
    },
    {
      "cell_type": "code",
      "metadata": {
        "colab": {
          "base_uri": "https://localhost:8080/",
          "height": 306
        },
        "id": "PxfKr5pAn467",
        "outputId": "6c392a6d-b01d-4d21-8d69-28d0ce42eead"
      },
      "source": [
        "data.head()"
      ],
      "execution_count": 40,
      "outputs": [
        {
          "output_type": "execute_result",
          "data": {
            "text/html": [
              "<div>\n",
              "<style scoped>\n",
              "    .dataframe tbody tr th:only-of-type {\n",
              "        vertical-align: middle;\n",
              "    }\n",
              "\n",
              "    .dataframe tbody tr th {\n",
              "        vertical-align: top;\n",
              "    }\n",
              "\n",
              "    .dataframe thead th {\n",
              "        text-align: right;\n",
              "    }\n",
              "</style>\n",
              "<table border=\"1\" class=\"dataframe\">\n",
              "  <thead>\n",
              "    <tr style=\"text-align: right;\">\n",
              "      <th></th>\n",
              "      <th>id</th>\n",
              "      <th>vendor_id</th>\n",
              "      <th>pickup_datetime</th>\n",
              "      <th>dropoff_datetime</th>\n",
              "      <th>passenger_count</th>\n",
              "      <th>pickup_longitude</th>\n",
              "      <th>pickup_latitude</th>\n",
              "      <th>dropoff_longitude</th>\n",
              "      <th>dropoff_latitude</th>\n",
              "      <th>store_and_fwd_flag</th>\n",
              "      <th>trip_duration</th>\n",
              "      <th>pickup_weekday</th>\n",
              "      <th>dropoff_weekday</th>\n",
              "      <th>pickup_weekday_num</th>\n",
              "      <th>pickup_hour</th>\n",
              "      <th>month</th>\n",
              "      <th>distance</th>\n",
              "      <th>speed</th>\n",
              "      <th>pickup_timeofday</th>\n",
              "    </tr>\n",
              "  </thead>\n",
              "  <tbody>\n",
              "    <tr>\n",
              "      <th>0</th>\n",
              "      <td>id2875421</td>\n",
              "      <td>2</td>\n",
              "      <td>2016-03-14 17:24:55</td>\n",
              "      <td>2016-03-14 17:32:30</td>\n",
              "      <td>1</td>\n",
              "      <td>-73.982155</td>\n",
              "      <td>40.767937</td>\n",
              "      <td>-73.964630</td>\n",
              "      <td>40.765602</td>\n",
              "      <td>N</td>\n",
              "      <td>455</td>\n",
              "      <td>Monday</td>\n",
              "      <td>Monday</td>\n",
              "      <td>0</td>\n",
              "      <td>17</td>\n",
              "      <td>3</td>\n",
              "      <td>1.498523</td>\n",
              "      <td>11.856445</td>\n",
              "      <td>Evening</td>\n",
              "    </tr>\n",
              "    <tr>\n",
              "      <th>1</th>\n",
              "      <td>id2377394</td>\n",
              "      <td>1</td>\n",
              "      <td>2016-06-12 00:43:35</td>\n",
              "      <td>2016-06-12 00:54:38</td>\n",
              "      <td>1</td>\n",
              "      <td>-73.980415</td>\n",
              "      <td>40.738564</td>\n",
              "      <td>-73.999481</td>\n",
              "      <td>40.731152</td>\n",
              "      <td>N</td>\n",
              "      <td>663</td>\n",
              "      <td>Sunday</td>\n",
              "      <td>Sunday</td>\n",
              "      <td>6</td>\n",
              "      <td>0</td>\n",
              "      <td>6</td>\n",
              "      <td>1.805510</td>\n",
              "      <td>9.803673</td>\n",
              "      <td>Late night</td>\n",
              "    </tr>\n",
              "    <tr>\n",
              "      <th>2</th>\n",
              "      <td>id3858529</td>\n",
              "      <td>2</td>\n",
              "      <td>2016-01-19 11:35:24</td>\n",
              "      <td>2016-01-19 12:10:48</td>\n",
              "      <td>1</td>\n",
              "      <td>-73.979027</td>\n",
              "      <td>40.763939</td>\n",
              "      <td>-74.005333</td>\n",
              "      <td>40.710087</td>\n",
              "      <td>N</td>\n",
              "      <td>2124</td>\n",
              "      <td>Tuesday</td>\n",
              "      <td>Tuesday</td>\n",
              "      <td>1</td>\n",
              "      <td>11</td>\n",
              "      <td>1</td>\n",
              "      <td>6.385108</td>\n",
              "      <td>10.822216</td>\n",
              "      <td>Morning</td>\n",
              "    </tr>\n",
              "    <tr>\n",
              "      <th>3</th>\n",
              "      <td>id3504673</td>\n",
              "      <td>2</td>\n",
              "      <td>2016-04-06 19:32:31</td>\n",
              "      <td>2016-04-06 19:39:40</td>\n",
              "      <td>1</td>\n",
              "      <td>-74.010040</td>\n",
              "      <td>40.719971</td>\n",
              "      <td>-74.012268</td>\n",
              "      <td>40.706718</td>\n",
              "      <td>N</td>\n",
              "      <td>429</td>\n",
              "      <td>Wednesday</td>\n",
              "      <td>Wednesday</td>\n",
              "      <td>2</td>\n",
              "      <td>19</td>\n",
              "      <td>4</td>\n",
              "      <td>1.485501</td>\n",
              "      <td>12.465739</td>\n",
              "      <td>Evening</td>\n",
              "    </tr>\n",
              "    <tr>\n",
              "      <th>4</th>\n",
              "      <td>id2181028</td>\n",
              "      <td>2</td>\n",
              "      <td>2016-03-26 13:30:55</td>\n",
              "      <td>2016-03-26 13:38:10</td>\n",
              "      <td>1</td>\n",
              "      <td>-73.973053</td>\n",
              "      <td>40.793209</td>\n",
              "      <td>-73.972923</td>\n",
              "      <td>40.782520</td>\n",
              "      <td>N</td>\n",
              "      <td>435</td>\n",
              "      <td>Saturday</td>\n",
              "      <td>Saturday</td>\n",
              "      <td>5</td>\n",
              "      <td>13</td>\n",
              "      <td>3</td>\n",
              "      <td>1.188590</td>\n",
              "      <td>9.836608</td>\n",
              "      <td>Afternoon</td>\n",
              "    </tr>\n",
              "  </tbody>\n",
              "</table>\n",
              "</div>"
            ],
            "text/plain": [
              "          id  vendor_id  ...      speed pickup_timeofday\n",
              "0  id2875421          2  ...  11.856445          Evening\n",
              "1  id2377394          1  ...   9.803673       Late night\n",
              "2  id3858529          2  ...  10.822216          Morning\n",
              "3  id3504673          2  ...  12.465739          Evening\n",
              "4  id2181028          2  ...   9.836608        Afternoon\n",
              "\n",
              "[5 rows x 19 columns]"
            ]
          },
          "metadata": {},
          "execution_count": 40
        }
      ]
    },
    {
      "cell_type": "code",
      "metadata": {
        "colab": {
          "base_uri": "https://localhost:8080/"
        },
        "id": "IlqDQWGnoEO3",
        "outputId": "00b2ed16-90ed-4a5c-bcdc-d3e77043ba81"
      },
      "source": [
        "data['store_and_fwd_flag'].value_counts(normalize=True)"
      ],
      "execution_count": 41,
      "outputs": [
        {
          "output_type": "execute_result",
          "data": {
            "text/plain": [
              "N    0.994486\n",
              "Y    0.005514\n",
              "Name: store_and_fwd_flag, dtype: float64"
            ]
          },
          "metadata": {},
          "execution_count": 41
        }
      ]
    },
    {
      "cell_type": "code",
      "metadata": {
        "colab": {
          "base_uri": "https://localhost:8080/"
        },
        "id": "ob-B15jRoG1c",
        "outputId": "c7509653-57b0-4ed6-f01b-e1ce9b0e7995"
      },
      "source": [
        "data['distance'].value_counts()"
      ],
      "execution_count": 42,
      "outputs": [
        {
          "output_type": "execute_result",
          "data": {
            "text/plain": [
              "0.000000     5887\n",
              "0.000424       47\n",
              "0.000424       44\n",
              "0.000424       36\n",
              "0.000424       18\n",
              "             ... \n",
              "21.041878       1\n",
              "1.495052        1\n",
              "3.397905        1\n",
              "7.866919        1\n",
              "1.336934        1\n",
              "Name: distance, Length: 1452294, dtype: int64"
            ]
          },
          "metadata": {},
          "execution_count": 42
        }
      ]
    },
    {
      "cell_type": "code",
      "metadata": {
        "colab": {
          "base_uri": "https://localhost:8080/",
          "height": 387
        },
        "id": "rSMU6RlEoI6a",
        "outputId": "38c58617-2bf3-427c-9edf-d8e693372282"
      },
      "source": [
        "plt.figure(figsize = (10,5))\n",
        "sns.boxplot(data.distance)\n",
        "plt.show()"
      ],
      "execution_count": 43,
      "outputs": [
        {
          "output_type": "stream",
          "name": "stderr",
          "text": [
            "/usr/local/lib/python3.7/dist-packages/seaborn/_decorators.py:43: FutureWarning: Pass the following variable as a keyword arg: x. From version 0.12, the only valid positional argument will be `data`, and passing other arguments without an explicit keyword will result in an error or misinterpretation.\n",
            "  FutureWarning\n"
          ]
        },
        {
          "output_type": "display_data",
          "data": {
            "image/png": "[encoded data removed]",
            "text/plain": [
              "<Figure size 720x360 with 1 Axes>"
            ]
          },
          "metadata": {
            "needs_background": "light"
          }
        }
      ]
    },
    {
      "cell_type": "markdown",
      "metadata": {
        "id": "UOiV1Kc_oRgI"
      },
      "source": [
        "*   There are some trips with over 100 km distance.\n",
        "*   Some of the trips with 0 km distance."
      ]
    },
    {
      "cell_type": "code",
      "metadata": {
        "id": "JF0jdurSoMWj"
      },
      "source": [
        "data.loc[data.distance > 100, 'distance'] = 100"
      ],
      "execution_count": 44,
      "outputs": []
    },
    {
      "cell_type": "code",
      "metadata": {
        "colab": {
          "base_uri": "https://localhost:8080/",
          "height": 387
        },
        "id": "1JOP0GgPoUGN",
        "outputId": "13f9c3be-4390-43dc-e6be-3143557a7088"
      },
      "source": [
        "plt.figure(figsize = (10,5))\n",
        "sns.boxplot(data.distance)\n",
        "plt.show()"
      ],
      "execution_count": 45,
      "outputs": [
        {
          "output_type": "stream",
          "name": "stderr",
          "text": [
            "/usr/local/lib/python3.7/dist-packages/seaborn/_decorators.py:43: FutureWarning: Pass the following variable as a keyword arg: x. From version 0.12, the only valid positional argument will be `data`, and passing other arguments without an explicit keyword will result in an error or misinterpretation.\n",
            "  FutureWarning\n"
          ]
        },
        {
          "output_type": "display_data",
          "data": {
            "image/png": "[encoded data removed]",
            "text/plain": [
              "<Figure size 720x360 with 1 Axes>"
            ]
          },
          "metadata": {
            "needs_background": "light"
          }
        }
      ]
    },
    {
      "cell_type": "code",
      "metadata": {
        "colab": {
          "base_uri": "https://localhost:8080/",
          "height": 387
        },
        "id": "K4Wt00YhoWEO",
        "outputId": "12557c49-6f31-4008-df27-169cf5485a83"
      },
      "source": [
        "# speed outliers\n",
        "plt.figure(figsize = (10,5))\n",
        "sns.boxplot(data.speed)\n",
        "plt.show()"
      ],
      "execution_count": 47,
      "outputs": [
        {
          "output_type": "stream",
          "name": "stderr",
          "text": [
            "/usr/local/lib/python3.7/dist-packages/seaborn/_decorators.py:43: FutureWarning: Pass the following variable as a keyword arg: x. From version 0.12, the only valid positional argument will be `data`, and passing other arguments without an explicit keyword will result in an error or misinterpretation.\n",
            "  FutureWarning\n"
          ]
        },
        {
          "output_type": "display_data",
          "data": {
            "image/png": "[encoded data removed]",
            "text/plain": [
              "<Figure size 720x360 with 1 Axes>"
            ]
          },
          "metadata": {
            "needs_background": "light"
          }
        }
      ]
    },
    {
      "cell_type": "markdown",
      "metadata": {
        "id": "6rf8mDQhogmr"
      },
      "source": [
        "*   Many trips were done at a speed of over 200 km/h.\n",
        "\n",
        "\n",
        "\n"
      ]
    },
    {
      "cell_type": "code",
      "metadata": {
        "id": "F9A7_OGAoZTC"
      },
      "source": [
        "data.loc[data.speed > 100, 'speed'] = 104"
      ],
      "execution_count": 48,
      "outputs": []
    },
    {
      "cell_type": "code",
      "metadata": {
        "colab": {
          "base_uri": "https://localhost:8080/",
          "height": 387
        },
        "id": "d5bPc3hqolAc",
        "outputId": "f5c528a2-d15c-46c0-a99a-baea50783fef"
      },
      "source": [
        "plt.figure(figsize = (10,5))\n",
        "sns.boxplot(data.speed)\n",
        "plt.show()\n"
      ],
      "execution_count": 49,
      "outputs": [
        {
          "output_type": "stream",
          "name": "stderr",
          "text": [
            "/usr/local/lib/python3.7/dist-packages/seaborn/_decorators.py:43: FutureWarning: Pass the following variable as a keyword arg: x. From version 0.12, the only valid positional argument will be `data`, and passing other arguments without an explicit keyword will result in an error or misinterpretation.\n",
            "  FutureWarning\n"
          ]
        },
        {
          "output_type": "display_data",
          "data": {
            "image/png": "[encoded data removed]",
            "text/plain": [
              "<Figure size 720x360 with 1 Axes>"
            ]
          },
          "metadata": {
            "needs_background": "light"
          }
        }
      ]
    },
    {
      "cell_type": "code",
      "metadata": {
        "colab": {
          "base_uri": "https://localhost:8080/",
          "height": 369
        },
        "id": "vZRGeBx8onFC",
        "outputId": "3040b888-a15f-48bf-c4ea-e2f32a85562a"
      },
      "source": [
        "# lets see speed range\n",
        "plt.figure(figsize = (10,5))\n",
        "data.speed.groupby(pd.cut(data.speed, np.arange(0,104,10))).count().plot(kind = 'bar')\n",
        "plt.xlabel('Trip count')\n",
        "plt.ylabel('Speed (Km/H)')\n",
        "plt.show()"
      ],
      "execution_count": 50,
      "outputs": [
        {
          "output_type": "display_data",
          "data": {
            "image/png": "[encoded data removed]",
            "text/plain": [
              "<Figure size 720x360 with 1 Axes>"
            ]
          },
          "metadata": {
            "needs_background": "light"
          }
        }
      ]
    },
    {
      "cell_type": "code",
      "metadata": {
        "colab": {
          "base_uri": "https://localhost:8080/",
          "height": 389
        },
        "id": "2GLY2NP7ov41",
        "outputId": "3d0c62a8-819a-4248-9266-a4a256f72baa"
      },
      "source": [
        "# trips per hour\n",
        "plt.figure(figsize = (10,5))\n",
        "sns.countplot(data.pickup_hour)\n",
        "plt.show()"
      ],
      "execution_count": 52,
      "outputs": [
        {
          "output_type": "stream",
          "name": "stderr",
          "text": [
            "/usr/local/lib/python3.7/dist-packages/seaborn/_decorators.py:43: FutureWarning: Pass the following variable as a keyword arg: x. From version 0.12, the only valid positional argument will be `data`, and passing other arguments without an explicit keyword will result in an error or misinterpretation.\n",
            "  FutureWarning\n"
          ]
        },
        {
          "output_type": "display_data",
          "data": {
            "image/png": "[encoded data removed]",
            "text/plain": [
              "<Figure size 720x360 with 1 Axes>"
            ]
          },
          "metadata": {
            "needs_background": "light"
          }
        }
      ]
    },
    {
      "cell_type": "code",
      "metadata": {
        "colab": {
          "base_uri": "https://localhost:8080/",
          "height": 389
        },
        "id": "MBIhr1xioy7L",
        "outputId": "7f2d17cf-89ca-4d88-98e2-fb147a3fd9ba"
      },
      "source": [
        "# trips per week day\n",
        "plt.figure(figsize = (10,5))\n",
        "sns.countplot(data.pickup_weekday)\n",
        "plt.xlabel(' pickup_day ')\n",
        "plt.ylabel('Pickup counts')\n",
        "plt.show()"
      ],
      "execution_count": 53,
      "outputs": [
        {
          "output_type": "stream",
          "name": "stderr",
          "text": [
            "/usr/local/lib/python3.7/dist-packages/seaborn/_decorators.py:43: FutureWarning: Pass the following variable as a keyword arg: x. From version 0.12, the only valid positional argument will be `data`, and passing other arguments without an explicit keyword will result in an error or misinterpretation.\n",
            "  FutureWarning\n"
          ]
        },
        {
          "output_type": "display_data",
          "data": {
            "image/png": "[encoded data removed]",
            "text/plain": [
              "<Figure size 720x360 with 1 Axes>"
            ]
          },
          "metadata": {
            "needs_background": "light"
          }
        }
      ]
    },
    {
      "cell_type": "code",
      "metadata": {
        "colab": {
          "base_uri": "https://localhost:8080/",
          "height": 387
        },
        "id": "AKrDb_Weo8GE",
        "outputId": "a27d779f-9432-41f3-ff0c-a8b751f6ee38"
      },
      "source": [
        "# trips per month\n",
        "plt.figure(figsize = (10,5))\n",
        "sns.countplot(data.month)\n",
        "plt.ylabel('Trip Counts')\n",
        "plt.xlabel('Months')\n",
        "plt.show()"
      ],
      "execution_count": 54,
      "outputs": [
        {
          "output_type": "stream",
          "name": "stderr",
          "text": [
            "/usr/local/lib/python3.7/dist-packages/seaborn/_decorators.py:43: FutureWarning: Pass the following variable as a keyword arg: x. From version 0.12, the only valid positional argument will be `data`, and passing other arguments without an explicit keyword will result in an error or misinterpretation.\n",
            "  FutureWarning\n"
          ]
        },
        {
          "output_type": "display_data",
          "data": {
            "image/png": "[encoded data removed]",
            "text/plain": [
              "<Figure size 720x360 with 1 Axes>"
            ]
          },
          "metadata": {
            "needs_background": "light"
          }
        }
      ]
    },
    {
      "cell_type": "code",
      "metadata": {
        "colab": {
          "base_uri": "https://localhost:8080/",
          "height": 335
        },
        "id": "z5n6Frquo_YX",
        "outputId": "5e82b828-e532-4ea6-bd53-94034de8af09"
      },
      "source": [
        "# bivariate\n",
        "plt.figure(figsize = (10,5))\n",
        "sns.barplot(y='trip_duration',x='vendor_id',data=data,estimator=np.mean)\n",
        "plt.show()"
      ],
      "execution_count": 55,
      "outputs": [
        {
          "output_type": "display_data",
          "data": {
            "image/png": "[encoded data removed]",
            "text/plain": [
              "<Figure size 720x360 with 1 Axes>"
            ]
          },
          "metadata": {
            "needs_background": "light"
          }
        }
      ]
    },
    {
      "cell_type": "markdown",
      "metadata": {
        "id": "gOlxEdkcpHaL"
      },
      "source": [
        "*   Vendor id 2 takes longer trips as compared to vendor 1."
      ]
    },
    {
      "cell_type": "code",
      "metadata": {
        "colab": {
          "base_uri": "https://localhost:8080/",
          "height": 335
        },
        "id": "xiYfVSWtpLJW",
        "outputId": "bfd710f6-bca6-4d48-d738-2f92e0be5338"
      },
      "source": [
        "# trips per weekday\n",
        "plt.figure(figsize = (10,5))\n",
        "sns.lineplot(x='pickup_weekday_num',y='trip_duration',data=data)\n",
        "plt.show()"
      ],
      "execution_count": 57,
      "outputs": [
        {
          "output_type": "display_data",
          "data": {
            "image/png": "[encoded data removed]",
            "text/plain": [
              "<Figure size 720x360 with 1 Axes>"
            ]
          },
          "metadata": {
            "needs_background": "light"
          }
        }
      ]
    },
    {
      "cell_type": "code",
      "metadata": {
        "colab": {
          "base_uri": "https://localhost:8080/",
          "height": 335
        },
        "id": "-N18rqyxpU11",
        "outputId": "359deada-a888-4a90-a269-a7e72191727a"
      },
      "source": [
        "plt.figure(figsize = (10,5))\n",
        "sns.barplot(y='distance',x='vendor_id',data=data,estimator=np.mean)\n",
        "plt.show()"
      ],
      "execution_count": 58,
      "outputs": [
        {
          "output_type": "display_data",
          "data": {
            "image/png": "[encoded data removed]",
            "text/plain": [
              "<Figure size 720x360 with 1 Axes>"
            ]
          },
          "metadata": {
            "needs_background": "light"
          }
        }
      ]
    },
    {
      "cell_type": "code",
      "metadata": {
        "colab": {
          "base_uri": "https://localhost:8080/",
          "height": 335
        },
        "id": "fmgDfY9NpXga",
        "outputId": "0d8abc96-b10b-455b-a5d5-e91be0ea017c"
      },
      "source": [
        "# distance per week \n",
        "plt.figure(figsize = (10,5))\n",
        "sns.lineplot(x='pickup_weekday_num', y='distance',data=data)\n",
        "plt.show()"
      ],
      "execution_count": 59,
      "outputs": [
        {
          "output_type": "display_data",
          "data": {
            "image/png": "[encoded data removed]",
            "text/plain": [
              "<Figure size 720x360 with 1 Axes>"
            ]
          },
          "metadata": {
            "needs_background": "light"
          }
        }
      ]
    },
    {
      "cell_type": "code",
      "metadata": {
        "colab": {
          "base_uri": "https://localhost:8080/",
          "height": 320
        },
        "id": "dT5QYwHppf5P",
        "outputId": "452ced48-f069-444b-e852-301d330302da"
      },
      "source": [
        "# distance and time duration\n",
        "plt.figure(figsize = (10,5))\n",
        "plt.scatter(x='trip_duration', y='distance',data=data)\n",
        "plt.show()"
      ],
      "execution_count": 60,
      "outputs": [
        {
          "output_type": "display_data",
          "data": {
            "image/png": "[encoded data removed]",
            "text/plain": [
              "<Figure size 720x360 with 1 Axes>"
            ]
          },
          "metadata": {
            "needs_background": "light"
          }
        }
      ]
    },
    {
      "cell_type": "markdown",
      "metadata": {
        "id": "YBox6AgIprcy"
      },
      "source": [
        "We should remove those trips which covered 0 km distance but clocked more than 1 minute to make our data more consistent for predictive model. Because if the trip was cancelled after booking, than that should not have taken more than a minute time. This is our assumption."
      ]
    },
    {
      "cell_type": "code",
      "metadata": {
        "id": "B_3C5s4FpnS_"
      },
      "source": [
        "data = data[~((data.distance == 0) & (data.trip_duration >= 60))]"
      ],
      "execution_count": 61,
      "outputs": []
    },
    {
      "cell_type": "code",
      "metadata": {
        "id": "coYN_TWPpvGK"
      },
      "source": [
        "data1= data.loc[(data['distance'] <= 1) & (data['trip_duration'] >= 3600),['distance','trip_duration']].reset_index(drop=True)"
      ],
      "execution_count": 62,
      "outputs": []
    },
    {
      "cell_type": "code",
      "metadata": {
        "colab": {
          "base_uri": "https://localhost:8080/",
          "height": 387
        },
        "id": "-G_-gZJFp3gs",
        "outputId": "826e2fd0-b835-4316-97fe-3cd80eeffaac"
      },
      "source": [
        "plt.figure(figsize = (10,5))\n",
        "sns.regplot(data1.distance, data1.trip_duration)\n",
        "plt.show()"
      ],
      "execution_count": 63,
      "outputs": [
        {
          "output_type": "stream",
          "name": "stderr",
          "text": [
            "/usr/local/lib/python3.7/dist-packages/seaborn/_decorators.py:43: FutureWarning: Pass the following variables as keyword args: x, y. From version 0.12, the only valid positional argument will be `data`, and passing other arguments without an explicit keyword will result in an error or misinterpretation.\n",
            "  FutureWarning\n"
          ]
        },
        {
          "output_type": "display_data",
          "data": {
            "image/png": "[encoded data removed]",
            "text/plain": [
              "<Figure size 720x360 with 1 Axes>"
            ]
          },
          "metadata": {
            "needs_background": "light"
          }
        }
      ]
    },
    {
      "cell_type": "markdown",
      "metadata": {
        "id": "7q7SMS_Wp7ET"
      },
      "source": [
        "*   Though the straight line tries to show some linear relation between the two. But there seems to be negligible correlation between these two metric as seen from the scatter plot where it should have been a linear distribution.\n",
        "*   It is rarely occurs that customer keep sitting in the taxi for more than an hour and it does not travel for even 1 km.\n",
        "\n"
      ]
    },
    {
      "cell_type": "markdown",
      "metadata": {
        "id": "V9-MNWo3qHp_"
      },
      "source": [
        "feature engineering"
      ]
    },
    {
      "cell_type": "code",
      "metadata": {
        "id": "QV42dY-wqCNI"
      },
      "source": [
        "# one hot encoding\n",
        "dummy = pd.get_dummies(data.store_and_fwd_flag, prefix='store_and_fwd_flag')\n",
        "data = pd.concat([data,dummy], axis = 1)"
      ],
      "execution_count": 66,
      "outputs": []
    },
    {
      "cell_type": "code",
      "metadata": {
        "id": "X8rf599fqNBe"
      },
      "source": [
        "dummy = pd.get_dummies(data.pickup_weekday, prefix='pickup_weekday')\n",
        "data = pd.concat([data,dummy], axis = 1)"
      ],
      "execution_count": 67,
      "outputs": []
    },
    {
      "cell_type": "code",
      "metadata": {
        "id": "2wzKqoebqOoa"
      },
      "source": [
        "# duration into hours\n",
        "data['trip_duration_hour']=data['trip_duration']/3600"
      ],
      "execution_count": 68,
      "outputs": []
    },
    {
      "cell_type": "code",
      "metadata": {
        "colab": {
          "base_uri": "https://localhost:8080/",
          "height": 306
        },
        "id": "cc5QpSJPqSKm",
        "outputId": "bed1180b-1ffb-4640-f6e9-658b0bc78548"
      },
      "source": [
        "data.head()"
      ],
      "execution_count": 69,
      "outputs": [
        {
          "output_type": "execute_result",
          "data": {
            "text/html": [
              "<div>\n",
              "<style scoped>\n",
              "    .dataframe tbody tr th:only-of-type {\n",
              "        vertical-align: middle;\n",
              "    }\n",
              "\n",
              "    .dataframe tbody tr th {\n",
              "        vertical-align: top;\n",
              "    }\n",
              "\n",
              "    .dataframe thead th {\n",
              "        text-align: right;\n",
              "    }\n",
              "</style>\n",
              "<table border=\"1\" class=\"dataframe\">\n",
              "  <thead>\n",
              "    <tr style=\"text-align: right;\">\n",
              "      <th></th>\n",
              "      <th>id</th>\n",
              "      <th>vendor_id</th>\n",
              "      <th>pickup_datetime</th>\n",
              "      <th>dropoff_datetime</th>\n",
              "      <th>passenger_count</th>\n",
              "      <th>pickup_longitude</th>\n",
              "      <th>pickup_latitude</th>\n",
              "      <th>dropoff_longitude</th>\n",
              "      <th>dropoff_latitude</th>\n",
              "      <th>store_and_fwd_flag</th>\n",
              "      <th>trip_duration</th>\n",
              "      <th>pickup_weekday</th>\n",
              "      <th>dropoff_weekday</th>\n",
              "      <th>pickup_weekday_num</th>\n",
              "      <th>pickup_hour</th>\n",
              "      <th>month</th>\n",
              "      <th>distance</th>\n",
              "      <th>speed</th>\n",
              "      <th>pickup_timeofday</th>\n",
              "      <th>store_and_fwd_flag_N</th>\n",
              "      <th>store_and_fwd_flag_Y</th>\n",
              "      <th>pickup_weekday_Friday</th>\n",
              "      <th>pickup_weekday_Monday</th>\n",
              "      <th>pickup_weekday_Saturday</th>\n",
              "      <th>pickup_weekday_Sunday</th>\n",
              "      <th>pickup_weekday_Thursday</th>\n",
              "      <th>pickup_weekday_Tuesday</th>\n",
              "      <th>pickup_weekday_Wednesday</th>\n",
              "      <th>trip_duration_hour</th>\n",
              "    </tr>\n",
              "  </thead>\n",
              "  <tbody>\n",
              "    <tr>\n",
              "      <th>0</th>\n",
              "      <td>id2875421</td>\n",
              "      <td>2</td>\n",
              "      <td>2016-03-14 17:24:55</td>\n",
              "      <td>2016-03-14 17:32:30</td>\n",
              "      <td>1</td>\n",
              "      <td>-73.982155</td>\n",
              "      <td>40.767937</td>\n",
              "      <td>-73.964630</td>\n",
              "      <td>40.765602</td>\n",
              "      <td>N</td>\n",
              "      <td>455</td>\n",
              "      <td>Monday</td>\n",
              "      <td>Monday</td>\n",
              "      <td>0</td>\n",
              "      <td>17</td>\n",
              "      <td>3</td>\n",
              "      <td>1.498523</td>\n",
              "      <td>11.856445</td>\n",
              "      <td>Evening</td>\n",
              "      <td>1</td>\n",
              "      <td>0</td>\n",
              "      <td>0</td>\n",
              "      <td>1</td>\n",
              "      <td>0</td>\n",
              "      <td>0</td>\n",
              "      <td>0</td>\n",
              "      <td>0</td>\n",
              "      <td>0</td>\n",
              "      <td>0.126389</td>\n",
              "    </tr>\n",
              "    <tr>\n",
              "      <th>1</th>\n",
              "      <td>id2377394</td>\n",
              "      <td>1</td>\n",
              "      <td>2016-06-12 00:43:35</td>\n",
              "      <td>2016-06-12 00:54:38</td>\n",
              "      <td>1</td>\n",
              "      <td>-73.980415</td>\n",
              "      <td>40.738564</td>\n",
              "      <td>-73.999481</td>\n",
              "      <td>40.731152</td>\n",
              "      <td>N</td>\n",
              "      <td>663</td>\n",
              "      <td>Sunday</td>\n",
              "      <td>Sunday</td>\n",
              "      <td>6</td>\n",
              "      <td>0</td>\n",
              "      <td>6</td>\n",
              "      <td>1.805510</td>\n",
              "      <td>9.803673</td>\n",
              "      <td>Late night</td>\n",
              "      <td>1</td>\n",
              "      <td>0</td>\n",
              "      <td>0</td>\n",
              "      <td>0</td>\n",
              "      <td>0</td>\n",
              "      <td>1</td>\n",
              "      <td>0</td>\n",
              "      <td>0</td>\n",
              "      <td>0</td>\n",
              "      <td>0.184167</td>\n",
              "    </tr>\n",
              "    <tr>\n",
              "      <th>2</th>\n",
              "      <td>id3858529</td>\n",
              "      <td>2</td>\n",
              "      <td>2016-01-19 11:35:24</td>\n",
              "      <td>2016-01-19 12:10:48</td>\n",
              "      <td>1</td>\n",
              "      <td>-73.979027</td>\n",
              "      <td>40.763939</td>\n",
              "      <td>-74.005333</td>\n",
              "      <td>40.710087</td>\n",
              "      <td>N</td>\n",
              "      <td>2124</td>\n",
              "      <td>Tuesday</td>\n",
              "      <td>Tuesday</td>\n",
              "      <td>1</td>\n",
              "      <td>11</td>\n",
              "      <td>1</td>\n",
              "      <td>6.385108</td>\n",
              "      <td>10.822216</td>\n",
              "      <td>Morning</td>\n",
              "      <td>1</td>\n",
              "      <td>0</td>\n",
              "      <td>0</td>\n",
              "      <td>0</td>\n",
              "      <td>0</td>\n",
              "      <td>0</td>\n",
              "      <td>0</td>\n",
              "      <td>1</td>\n",
              "      <td>0</td>\n",
              "      <td>0.590000</td>\n",
              "    </tr>\n",
              "    <tr>\n",
              "      <th>3</th>\n",
              "      <td>id3504673</td>\n",
              "      <td>2</td>\n",
              "      <td>2016-04-06 19:32:31</td>\n",
              "      <td>2016-04-06 19:39:40</td>\n",
              "      <td>1</td>\n",
              "      <td>-74.010040</td>\n",
              "      <td>40.719971</td>\n",
              "      <td>-74.012268</td>\n",
              "      <td>40.706718</td>\n",
              "      <td>N</td>\n",
              "      <td>429</td>\n",
              "      <td>Wednesday</td>\n",
              "      <td>Wednesday</td>\n",
              "      <td>2</td>\n",
              "      <td>19</td>\n",
              "      <td>4</td>\n",
              "      <td>1.485501</td>\n",
              "      <td>12.465739</td>\n",
              "      <td>Evening</td>\n",
              "      <td>1</td>\n",
              "      <td>0</td>\n",
              "      <td>0</td>\n",
              "      <td>0</td>\n",
              "      <td>0</td>\n",
              "      <td>0</td>\n",
              "      <td>0</td>\n",
              "      <td>0</td>\n",
              "      <td>1</td>\n",
              "      <td>0.119167</td>\n",
              "    </tr>\n",
              "    <tr>\n",
              "      <th>4</th>\n",
              "      <td>id2181028</td>\n",
              "      <td>2</td>\n",
              "      <td>2016-03-26 13:30:55</td>\n",
              "      <td>2016-03-26 13:38:10</td>\n",
              "      <td>1</td>\n",
              "      <td>-73.973053</td>\n",
              "      <td>40.793209</td>\n",
              "      <td>-73.972923</td>\n",
              "      <td>40.782520</td>\n",
              "      <td>N</td>\n",
              "      <td>435</td>\n",
              "      <td>Saturday</td>\n",
              "      <td>Saturday</td>\n",
              "      <td>5</td>\n",
              "      <td>13</td>\n",
              "      <td>3</td>\n",
              "      <td>1.188590</td>\n",
              "      <td>9.836608</td>\n",
              "      <td>Afternoon</td>\n",
              "      <td>1</td>\n",
              "      <td>0</td>\n",
              "      <td>0</td>\n",
              "      <td>0</td>\n",
              "      <td>1</td>\n",
              "      <td>0</td>\n",
              "      <td>0</td>\n",
              "      <td>0</td>\n",
              "      <td>0</td>\n",
              "      <td>0.120833</td>\n",
              "    </tr>\n",
              "  </tbody>\n",
              "</table>\n",
              "</div>"
            ],
            "text/plain": [
              "          id  vendor_id  ... pickup_weekday_Wednesday trip_duration_hour\n",
              "0  id2875421          2  ...                        0           0.126389\n",
              "1  id2377394          1  ...                        0           0.184167\n",
              "2  id3858529          2  ...                        0           0.590000\n",
              "3  id3504673          2  ...                        1           0.119167\n",
              "4  id2181028          2  ...                        0           0.120833\n",
              "\n",
              "[5 rows x 29 columns]"
            ]
          },
          "metadata": {},
          "execution_count": 69
        }
      ]
    },
    {
      "cell_type": "code",
      "metadata": {
        "colab": {
          "base_uri": "https://localhost:8080/",
          "height": 222
        },
        "id": "aV_RipuXqUyS",
        "outputId": "2c66a2a2-ffe2-4564-ac89-f2fb1d22f582"
      },
      "source": [
        "# removing unimporatant columns\n",
        "data=data.drop(['id','pickup_datetime', 'dropoff_datetime', 'store_and_fwd_flag', 'pickup_weekday', 'dropoff_weekday', 'pickup_weekday_num', 'pickup_timeofday', 'trip_duration', 'speed'], axis=1)\n",
        "data.head()"
      ],
      "execution_count": 70,
      "outputs": [
        {
          "output_type": "execute_result",
          "data": {
            "text/html": [
              "<div>\n",
              "<style scoped>\n",
              "    .dataframe tbody tr th:only-of-type {\n",
              "        vertical-align: middle;\n",
              "    }\n",
              "\n",
              "    .dataframe tbody tr th {\n",
              "        vertical-align: top;\n",
              "    }\n",
              "\n",
              "    .dataframe thead th {\n",
              "        text-align: right;\n",
              "    }\n",
              "</style>\n",
              "<table border=\"1\" class=\"dataframe\">\n",
              "  <thead>\n",
              "    <tr style=\"text-align: right;\">\n",
              "      <th></th>\n",
              "      <th>vendor_id</th>\n",
              "      <th>passenger_count</th>\n",
              "      <th>pickup_longitude</th>\n",
              "      <th>pickup_latitude</th>\n",
              "      <th>dropoff_longitude</th>\n",
              "      <th>dropoff_latitude</th>\n",
              "      <th>pickup_hour</th>\n",
              "      <th>month</th>\n",
              "      <th>distance</th>\n",
              "      <th>store_and_fwd_flag_N</th>\n",
              "      <th>store_and_fwd_flag_Y</th>\n",
              "      <th>pickup_weekday_Friday</th>\n",
              "      <th>pickup_weekday_Monday</th>\n",
              "      <th>pickup_weekday_Saturday</th>\n",
              "      <th>pickup_weekday_Sunday</th>\n",
              "      <th>pickup_weekday_Thursday</th>\n",
              "      <th>pickup_weekday_Tuesday</th>\n",
              "      <th>pickup_weekday_Wednesday</th>\n",
              "      <th>trip_duration_hour</th>\n",
              "    </tr>\n",
              "  </thead>\n",
              "  <tbody>\n",
              "    <tr>\n",
              "      <th>0</th>\n",
              "      <td>2</td>\n",
              "      <td>1</td>\n",
              "      <td>-73.982155</td>\n",
              "      <td>40.767937</td>\n",
              "      <td>-73.964630</td>\n",
              "      <td>40.765602</td>\n",
              "      <td>17</td>\n",
              "      <td>3</td>\n",
              "      <td>1.498523</td>\n",
              "      <td>1</td>\n",
              "      <td>0</td>\n",
              "      <td>0</td>\n",
              "      <td>1</td>\n",
              "      <td>0</td>\n",
              "      <td>0</td>\n",
              "      <td>0</td>\n",
              "      <td>0</td>\n",
              "      <td>0</td>\n",
              "      <td>0.126389</td>\n",
              "    </tr>\n",
              "    <tr>\n",
              "      <th>1</th>\n",
              "      <td>1</td>\n",
              "      <td>1</td>\n",
              "      <td>-73.980415</td>\n",
              "      <td>40.738564</td>\n",
              "      <td>-73.999481</td>\n",
              "      <td>40.731152</td>\n",
              "      <td>0</td>\n",
              "      <td>6</td>\n",
              "      <td>1.805510</td>\n",
              "      <td>1</td>\n",
              "      <td>0</td>\n",
              "      <td>0</td>\n",
              "      <td>0</td>\n",
              "      <td>0</td>\n",
              "      <td>1</td>\n",
              "      <td>0</td>\n",
              "      <td>0</td>\n",
              "      <td>0</td>\n",
              "      <td>0.184167</td>\n",
              "    </tr>\n",
              "    <tr>\n",
              "      <th>2</th>\n",
              "      <td>2</td>\n",
              "      <td>1</td>\n",
              "      <td>-73.979027</td>\n",
              "      <td>40.763939</td>\n",
              "      <td>-74.005333</td>\n",
              "      <td>40.710087</td>\n",
              "      <td>11</td>\n",
              "      <td>1</td>\n",
              "      <td>6.385108</td>\n",
              "      <td>1</td>\n",
              "      <td>0</td>\n",
              "      <td>0</td>\n",
              "      <td>0</td>\n",
              "      <td>0</td>\n",
              "      <td>0</td>\n",
              "      <td>0</td>\n",
              "      <td>1</td>\n",
              "      <td>0</td>\n",
              "      <td>0.590000</td>\n",
              "    </tr>\n",
              "    <tr>\n",
              "      <th>3</th>\n",
              "      <td>2</td>\n",
              "      <td>1</td>\n",
              "      <td>-74.010040</td>\n",
              "      <td>40.719971</td>\n",
              "      <td>-74.012268</td>\n",
              "      <td>40.706718</td>\n",
              "      <td>19</td>\n",
              "      <td>4</td>\n",
              "      <td>1.485501</td>\n",
              "      <td>1</td>\n",
              "      <td>0</td>\n",
              "      <td>0</td>\n",
              "      <td>0</td>\n",
              "      <td>0</td>\n",
              "      <td>0</td>\n",
              "      <td>0</td>\n",
              "      <td>0</td>\n",
              "      <td>1</td>\n",
              "      <td>0.119167</td>\n",
              "    </tr>\n",
              "    <tr>\n",
              "      <th>4</th>\n",
              "      <td>2</td>\n",
              "      <td>1</td>\n",
              "      <td>-73.973053</td>\n",
              "      <td>40.793209</td>\n",
              "      <td>-73.972923</td>\n",
              "      <td>40.782520</td>\n",
              "      <td>13</td>\n",
              "      <td>3</td>\n",
              "      <td>1.188590</td>\n",
              "      <td>1</td>\n",
              "      <td>0</td>\n",
              "      <td>0</td>\n",
              "      <td>0</td>\n",
              "      <td>1</td>\n",
              "      <td>0</td>\n",
              "      <td>0</td>\n",
              "      <td>0</td>\n",
              "      <td>0</td>\n",
              "      <td>0.120833</td>\n",
              "    </tr>\n",
              "  </tbody>\n",
              "</table>\n",
              "</div>"
            ],
            "text/plain": [
              "   vendor_id  passenger_count  ...  pickup_weekday_Wednesday  trip_duration_hour\n",
              "0          2                1  ...                         0            0.126389\n",
              "1          1                1  ...                         0            0.184167\n",
              "2          2                1  ...                         0            0.590000\n",
              "3          2                1  ...                         1            0.119167\n",
              "4          2                1  ...                         0            0.120833\n",
              "\n",
              "[5 rows x 19 columns]"
            ]
          },
          "metadata": {},
          "execution_count": 70
        }
      ]
    },
    {
      "cell_type": "code",
      "metadata": {
        "colab": {
          "base_uri": "https://localhost:8080/"
        },
        "id": "yhUzZNt8qar_",
        "outputId": "f44f1eae-08f5-473f-fce8-9dce6860a99e"
      },
      "source": [
        "data.shape"
      ],
      "execution_count": 71,
      "outputs": [
        {
          "output_type": "execute_result",
          "data": {
            "text/plain": [
              "(1453073, 19)"
            ]
          },
          "metadata": {},
          "execution_count": 71
        }
      ]
    },
    {
      "cell_type": "code",
      "metadata": {
        "colab": {
          "base_uri": "https://localhost:8080/"
        },
        "id": "joCITo9TqhOd",
        "outputId": "0d248b1e-301f-4798-fa98-3c362f689a7b"
      },
      "source": [
        "data.info()"
      ],
      "execution_count": 72,
      "outputs": [
        {
          "output_type": "stream",
          "name": "stdout",
          "text": [
            "<class 'pandas.core.frame.DataFrame'>\n",
            "Int64Index: 1453073 entries, 0 to 1458643\n",
            "Data columns (total 19 columns):\n",
            " #   Column                    Non-Null Count    Dtype  \n",
            "---  ------                    --------------    -----  \n",
            " 0   vendor_id                 1453073 non-null  int64  \n",
            " 1   passenger_count           1453073 non-null  int64  \n",
            " 2   pickup_longitude          1453073 non-null  float64\n",
            " 3   pickup_latitude           1453073 non-null  float64\n",
            " 4   dropoff_longitude         1453073 non-null  float64\n",
            " 5   dropoff_latitude          1453073 non-null  float64\n",
            " 6   pickup_hour               1453073 non-null  int64  \n",
            " 7   month                     1453073 non-null  int64  \n",
            " 8   distance                  1453073 non-null  float64\n",
            " 9   store_and_fwd_flag_N      1453073 non-null  uint8  \n",
            " 10  store_and_fwd_flag_Y      1453073 non-null  uint8  \n",
            " 11  pickup_weekday_Friday     1453073 non-null  uint8  \n",
            " 12  pickup_weekday_Monday     1453073 non-null  uint8  \n",
            " 13  pickup_weekday_Saturday   1453073 non-null  uint8  \n",
            " 14  pickup_weekday_Sunday     1453073 non-null  uint8  \n",
            " 15  pickup_weekday_Thursday   1453073 non-null  uint8  \n",
            " 16  pickup_weekday_Tuesday    1453073 non-null  uint8  \n",
            " 17  pickup_weekday_Wednesday  1453073 non-null  uint8  \n",
            " 18  trip_duration_hour        1453073 non-null  float64\n",
            "dtypes: float64(6), int64(4), uint8(9)\n",
            "memory usage: 134.4 MB\n"
          ]
        }
      ]
    },
    {
      "cell_type": "code",
      "metadata": {
        "colab": {
          "base_uri": "https://localhost:8080/"
        },
        "id": "YCTkFngfqj9d",
        "outputId": "cd399bee-6471-4c4c-c8d9-33b631b990cb"
      },
      "source": [
        "data.isnull().sum()"
      ],
      "execution_count": 73,
      "outputs": [
        {
          "output_type": "execute_result",
          "data": {
            "text/plain": [
              "vendor_id                   0\n",
              "passenger_count             0\n",
              "pickup_longitude            0\n",
              "pickup_latitude             0\n",
              "dropoff_longitude           0\n",
              "dropoff_latitude            0\n",
              "pickup_hour                 0\n",
              "month                       0\n",
              "distance                    0\n",
              "store_and_fwd_flag_N        0\n",
              "store_and_fwd_flag_Y        0\n",
              "pickup_weekday_Friday       0\n",
              "pickup_weekday_Monday       0\n",
              "pickup_weekday_Saturday     0\n",
              "pickup_weekday_Sunday       0\n",
              "pickup_weekday_Thursday     0\n",
              "pickup_weekday_Tuesday      0\n",
              "pickup_weekday_Wednesday    0\n",
              "trip_duration_hour          0\n",
              "dtype: int64"
            ]
          },
          "metadata": {},
          "execution_count": 73
        }
      ]
    },
    {
      "cell_type": "markdown",
      "metadata": {
        "id": "6SE19Z52qrkV"
      },
      "source": [
        "corealtion analysis"
      ]
    },
    {
      "cell_type": "code",
      "metadata": {
        "colab": {
          "base_uri": "https://localhost:8080/",
          "height": 748
        },
        "id": "ieJ_AOvsqot_",
        "outputId": "0cb4d4e0-1d2e-4a20-c392-d2e20521add6"
      },
      "source": [
        "plt.figure (figsize= (20,10))\n",
        "corelation= data.corr()\n",
        "sns.heatmap(abs(corelation), annot=True, cmap='coolwarm')"
      ],
      "execution_count": 74,
      "outputs": [
        {
          "output_type": "execute_result",
          "data": {
            "text/plain": [
              "<matplotlib.axes._subplots.AxesSubplot at 0x7f96df471b50>"
            ]
          },
          "metadata": {},
          "execution_count": 74
        },
        {
          "output_type": "display_data",
          "data": {
            "image/png": "[encoded data removed]",
            "text/plain": [
              "<Figure size 1440x720 with 2 Axes>"
            ]
          },
          "metadata": {
            "needs_background": "light"
          }
        }
      ]
    },
    {
      "cell_type": "markdown",
      "metadata": {
        "id": "eTXNR6NZqyUi"
      },
      "source": [
        "*   We can see store_and_fwd_flag_y and store_and_fwd_flag_N are highly correlated.  \n",
        "*   Also they do not affect the target varible i.e. trip_duration_hour much. Hece we should remove these features from our dataset."
      ]
    },
    {
      "cell_type": "code",
      "metadata": {
        "id": "UtXtRICGqvr-"
      },
      "source": [
        "data=data.drop(['store_and_fwd_flag_N', 'store_and_fwd_flag_Y'], axis=1)"
      ],
      "execution_count": 75,
      "outputs": []
    },
    {
      "cell_type": "code",
      "metadata": {
        "colab": {
          "base_uri": "https://localhost:8080/",
          "height": 748
        },
        "id": "WNCNikZhq0Zp",
        "outputId": "7476bb91-5e9c-4658-c0c3-a8ebd04a6aca"
      },
      "source": [
        "plt.figure (figsize= (20,10))\n",
        "corelation= data.corr()\n",
        "sns.heatmap(abs(corelation), annot=True, cmap='coolwarm')"
      ],
      "execution_count": 76,
      "outputs": [
        {
          "output_type": "execute_result",
          "data": {
            "text/plain": [
              "<matplotlib.axes._subplots.AxesSubplot at 0x7f96df6e7350>"
            ]
          },
          "metadata": {},
          "execution_count": 76
        },
        {
          "output_type": "display_data",
          "data": {
            "image/png": "[encoded data removed]",
            "text/plain": [
              "<Figure size 1440x720 with 2 Axes>"
            ]
          },
          "metadata": {
            "needs_background": "light"
          }
        }
      ]
    },
    {
      "cell_type": "code",
      "metadata": {
        "id": "YQme9tQ-q2MZ"
      },
      "source": [
        "numeric_features= data.describe().columns"
      ],
      "execution_count": 77,
      "outputs": []
    },
    {
      "cell_type": "code",
      "metadata": {
        "id": "R2OmBDSPrIZ8",
        "outputId": "b4af30e7-bdf9-4eee-da42-d41b5c45dd93",
        "colab": {
          "base_uri": "https://localhost:8080/"
        }
      },
      "source": [
        "features= numeric_features.copy()\n",
        "features= list(features)\n",
        "features= features[:-1]\n",
        "features"
      ],
      "execution_count": 78,
      "outputs": [
        {
          "output_type": "execute_result",
          "data": {
            "text/plain": [
              "['vendor_id',\n",
              " 'passenger_count',\n",
              " 'pickup_longitude',\n",
              " 'pickup_latitude',\n",
              " 'dropoff_longitude',\n",
              " 'dropoff_latitude',\n",
              " 'pickup_hour',\n",
              " 'month',\n",
              " 'distance',\n",
              " 'pickup_weekday_Friday',\n",
              " 'pickup_weekday_Monday',\n",
              " 'pickup_weekday_Saturday',\n",
              " 'pickup_weekday_Sunday',\n",
              " 'pickup_weekday_Thursday',\n",
              " 'pickup_weekday_Tuesday',\n",
              " 'pickup_weekday_Wednesday']"
            ]
          },
          "metadata": {},
          "execution_count": 78
        }
      ]
    },
    {
      "cell_type": "code",
      "metadata": {
        "id": "9JQLmPgArKQe",
        "outputId": "7757138a-607a-49e9-a0e0-ea269c971b0c",
        "colab": {
          "base_uri": "https://localhost:8080/"
        }
      },
      "source": [
        "len(features)"
      ],
      "execution_count": 79,
      "outputs": [
        {
          "output_type": "execute_result",
          "data": {
            "text/plain": [
              "16"
            ]
          },
          "metadata": {},
          "execution_count": 79
        }
      ]
    },
    {
      "cell_type": "code",
      "metadata": {
        "id": "lfXs6mZmrOIG"
      },
      "source": [
        "from scipy.stats import zscore\n",
        "X= data[features].apply(zscore)[:120000]"
      ],
      "execution_count": 80,
      "outputs": []
    },
    {
      "cell_type": "code",
      "metadata": {
        "id": "2XXM_JYArZO9"
      },
      "source": [
        " y= np.log10(data['trip_duration_hour'])[:120000]"
      ],
      "execution_count": 82,
      "outputs": []
    },
    {
      "cell_type": "code",
      "metadata": {
        "id": "hRMEtsPXrOyl"
      },
      "source": [
        "# train test split\n",
        "#Importing RFE and Linear Regression \n",
        "from sklearn.model_selection import train_test_split\n",
        "X_train, X_test, y_train, y_test = train_test_split(X, y, test_size=0.2, random_state=0)"
      ],
      "execution_count": 83,
      "outputs": []
    },
    {
      "cell_type": "code",
      "metadata": {
        "id": "dJRq__t0rV1G",
        "outputId": "41ceb677-f34a-49f4-fe99-42c27306f60d",
        "colab": {
          "base_uri": "https://localhost:8080/"
        }
      },
      "source": [
        "from sklearn.feature_selection import RFE\n",
        "from sklearn.linear_model import LinearRegression\n",
        "#Running RFE with output number of the variable  equals to 16\n",
        "lm =  LinearRegression()\n",
        "rfe = RFE(lm, n_features_to_select=16)\n",
        "rfe= rfe.fit(X_train, y_train)\n",
        "#printing the boolean result\n",
        "rfe.support_"
      ],
      "execution_count": 84,
      "outputs": [
        {
          "output_type": "execute_result",
          "data": {
            "text/plain": [
              "array([ True,  True,  True,  True,  True,  True,  True,  True,  True,\n",
              "        True,  True,  True,  True,  True,  True,  True])"
            ]
          },
          "metadata": {},
          "execution_count": 84
        }
      ]
    },
    {
      "cell_type": "code",
      "metadata": {
        "id": "SQORaDK4rdms"
      },
      "source": [
        "#Assign the rfe features from X_train into col \n",
        "col= X_train.columns[rfe.support_]"
      ],
      "execution_count": 85,
      "outputs": []
    },
    {
      "cell_type": "code",
      "metadata": {
        "id": "V1ES7EgirgLU"
      },
      "source": [
        "#X_train_rfe is nothing but assigning remaining features after eliminating unimportant features from X_train\n",
        "X_train_rfe= X_train[col]"
      ],
      "execution_count": 86,
      "outputs": []
    },
    {
      "cell_type": "code",
      "metadata": {
        "id": "LtNBb_s0rjVO",
        "outputId": "88645819-2cee-41f2-cce9-aa3259d41d97",
        "colab": {
          "base_uri": "https://localhost:8080/"
        }
      },
      "source": [
        "import statsmodels.api as sm\n",
        "#Adding a constant variable\n",
        "X_train_rfe= sm.add_constant(X_train_rfe)"
      ],
      "execution_count": 87,
      "outputs": [
        {
          "output_type": "stream",
          "name": "stderr",
          "text": [
            "/usr/local/lib/python3.7/dist-packages/statsmodels/tools/_testing.py:19: FutureWarning: pandas.util.testing is deprecated. Use the functions in the public API at pandas.testing instead.\n",
            "  import pandas.util.testing as tm\n"
          ]
        }
      ]
    },
    {
      "cell_type": "code",
      "metadata": {
        "id": "vMPW9uTFrk6-"
      },
      "source": [
        "lm= sm.OLS(y_train, X_train_rfe).fit()"
      ],
      "execution_count": 88,
      "outputs": []
    },
    {
      "cell_type": "code",
      "metadata": {
        "id": "Ah22qnWKrmqB",
        "outputId": "8216858f-fb7a-4235-838a-ec3a3c1bb859",
        "colab": {
          "base_uri": "https://localhost:8080/"
        }
      },
      "source": [
        "print(lm.summary())"
      ],
      "execution_count": 89,
      "outputs": [
        {
          "output_type": "stream",
          "name": "stdout",
          "text": [
            "                            OLS Regression Results                            \n",
            "==============================================================================\n",
            "Dep. Variable:     trip_duration_hour   R-squared:                       0.430\n",
            "Model:                            OLS   Adj. R-squared:                  0.430\n",
            "Method:                 Least Squares   F-statistic:                     4836.\n",
            "Date:                Sat, 04 Sep 2021   Prob (F-statistic):               0.00\n",
            "Time:                        12:00:35   Log-Likelihood:                -7115.3\n",
            "No. Observations:               96000   AIC:                         1.426e+04\n",
            "Df Residuals:                   95984   BIC:                         1.441e+04\n",
            "Df Model:                          15                                         \n",
            "Covariance Type:            nonrobust                                         \n",
            "============================================================================================\n",
            "                               coef    std err          t      P>|t|      [0.025      0.975]\n",
            "--------------------------------------------------------------------------------------------\n",
            "const                       -0.7497      0.001   -891.212      0.000      -0.751      -0.748\n",
            "vendor_id                    0.0032      0.001      3.661      0.000       0.001       0.005\n",
            "passenger_count              0.0044      0.001      4.952      0.000       0.003       0.006\n",
            "pickup_longitude            -0.0523      0.001    -52.251      0.000      -0.054      -0.050\n",
            "pickup_latitude              0.0219      0.001     22.292      0.000       0.020       0.024\n",
            "dropoff_longitude           -0.0326      0.001    -34.721      0.000      -0.034      -0.031\n",
            "dropoff_latitude            -0.0120      0.001    -12.603      0.000      -0.014      -0.010\n",
            "pickup_hour                  0.0156      0.001     18.391      0.000       0.014       0.017\n",
            "month                        0.0127      0.001     15.063      0.000       0.011       0.014\n",
            "distance                     0.2606      0.001    239.415      0.000       0.258       0.263\n",
            "pickup_weekday_Friday        0.0064      0.001      8.973      0.000       0.005       0.008\n",
            "pickup_weekday_Monday       -0.0068      0.001     -9.348      0.000      -0.008      -0.005\n",
            "pickup_weekday_Saturday     -0.0057      0.001     -8.015      0.000      -0.007      -0.004\n",
            "pickup_weekday_Sunday       -0.0183      0.001    -25.075      0.000      -0.020      -0.017\n",
            "pickup_weekday_Thursday      0.0105      0.001     14.634      0.000       0.009       0.012\n",
            "pickup_weekday_Tuesday       0.0057      0.001      7.806      0.000       0.004       0.007\n",
            "pickup_weekday_Wednesday     0.0073      0.001     10.118      0.000       0.006       0.009\n",
            "==============================================================================\n",
            "Omnibus:                    19548.598   Durbin-Watson:                   1.998\n",
            "Prob(Omnibus):                  0.000   Jarque-Bera (JB):           425528.642\n",
            "Skew:                          -0.422   Prob(JB):                         0.00\n",
            "Kurtosis:                      13.280   Cond. No.                     4.10e+15\n",
            "==============================================================================\n",
            "\n",
            "Warnings:\n",
            "[1] Standard Errors assume that the covariance matrix of the errors is correctly specified.\n",
            "[2] The smallest eigenvalue is 1.06e-26. This might indicate that there are\n",
            "strong multicollinearity problems or that the design matrix is singular.\n"
          ]
        }
      ]
    },
    {
      "cell_type": "code",
      "metadata": {
        "id": "n1Xyf76Iro1C"
      },
      "source": [
        "# lets predict on our model\n",
        "#Making prediction\n",
        "y_pred_train= lm.predict(X_train_rfe)"
      ],
      "execution_count": 90,
      "outputs": []
    },
    {
      "cell_type": "code",
      "metadata": {
        "id": "xCwbKYQxsB9f"
      },
      "source": [
        "X_test_rfe= X_test[col]\n",
        "#Adding a condtant variable\n",
        "X_test_rfe= sm.add_constant(X_test_rfe)\n",
        "\n",
        "#Making prediction\n",
        "y_pred_test= lm.predict(X_test_rfe)"
      ],
      "execution_count": 91,
      "outputs": []
    },
    {
      "cell_type": "code",
      "metadata": {
        "id": "bKJAIzjksDl9"
      },
      "source": [
        "from sklearn.metrics import r2_score\n",
        "from sklearn.metrics import mean_squared_error"
      ],
      "execution_count": 92,
      "outputs": []
    },
    {
      "cell_type": "code",
      "metadata": {
        "id": "kBgUeHB9sF3T",
        "outputId": "d66dd669-1f7b-44d0-c296-801ee68992ac",
        "colab": {
          "base_uri": "https://localhost:8080/"
        }
      },
      "source": [
        "lr_train_mse  = mean_squared_error((y_train), (y_pred_train))\n",
        "print(\"Train MSE :\" , lr_train_mse)\n",
        "\n",
        "lr_train_rmse = np.sqrt(lr_train_mse)\n",
        "\n",
        "print(\"Train RMSE :\" ,lr_train_rmse)\n",
        "\n",
        "lr_train_r2 = r2_score((y_train), (y_pred_train))\n",
        "print(\"Train R2 :\" ,lr_train_r2) \n",
        "\n",
        "lr_train_r2_ = 1-(1-r2_score((y_train), (y_pred_train)))*((X_train.shape[0]-1)/(X_train.shape[0]-X_train.shape[1]-1))\n",
        "print(\"Train Adjusted R2 : \",lr_train_r2_)"
      ],
      "execution_count": 93,
      "outputs": [
        {
          "output_type": "stream",
          "name": "stdout",
          "text": [
            "Train MSE : 0.06790527217731197\n",
            "Train RMSE : 0.26058640059932514\n",
            "Train R2 : 0.43042015321605265\n",
            "Train Adjusted R2 :  0.4303252064280949\n"
          ]
        }
      ]
    },
    {
      "cell_type": "code",
      "metadata": {
        "id": "0SCBOugk72rV",
        "outputId": "3a5af358-83a0-47b6-f448-c2f0adfaa3da",
        "colab": {
          "base_uri": "https://localhost:8080/"
        }
      },
      "source": [
        "lr_test_mse  = mean_squared_error((y_test), (y_pred_test))\n",
        "print(\"Test MSE :\" , lr_test_mse)\n",
        "\n",
        "lr_test_rmse = np.sqrt(lr_test_mse)\n",
        "\n",
        "print(\"Test RMSE :\" ,lr_test_rmse)\n",
        "\n",
        "lr_test_r2 = r2_score((y_test), (y_pred_test))\n",
        "print(\"Test R2 :\" ,lr_test_r2)\n",
        "\n",
        "lr_test_r2_ = 1-(1-r2_score((y_test), (y_pred_test)))*((X_test.shape[0]-1)/(X_test.shape[0]-X_test.shape[1]-1))\n",
        "print(\"Test Adjusted R2 : \",lr_test_r2_)"
      ],
      "execution_count": 126,
      "outputs": [
        {
          "output_type": "stream",
          "name": "stdout",
          "text": [
            "Test MSE : 0.07044577310514548\n",
            "Test RMSE : 0.2654162261527081\n",
            "Test R2 : 0.4241336088698918\n",
            "Test Adjusted R2 :  0.4237494258128063\n"
          ]
        }
      ]
    },
    {
      "cell_type": "code",
      "metadata": {
        "id": "WroXxndIsHi_",
        "outputId": "dc446781-af6e-4841-a0fb-5f97fa68148b",
        "colab": {
          "base_uri": "https://localhost:8080/"
        }
      },
      "source": [
        "# ridge and lasso\n",
        "from sklearn.linear_model import Lasso\n",
        "from sklearn.model_selection import GridSearchCV\n",
        "#Cross validation\n",
        "lasso = Lasso()\n",
        "parameters = {'alpha': [1e-15,1e-13,1e-10,1e-8,1e-5,1e-4,1e-3,1e-2,1e-1,1,5,10,20,30,40,45,50,55,60,100]}\n",
        "lasso_regressor = GridSearchCV(lasso, parameters, scoring='r2', cv=5)\n",
        "lasso_regressor.fit(X_train, y_train)"
      ],
      "execution_count": 94,
      "outputs": [
        {
          "output_type": "stream",
          "name": "stderr",
          "text": [
            "/usr/local/lib/python3.7/dist-packages/sklearn/linear_model/_coordinate_descent.py:476: ConvergenceWarning: Objective did not converge. You might want to increase the number of iterations. Duality gap: 98.9916342601191, tolerance: 0.9135565944644132\n",
            "  positive)\n",
            "/usr/local/lib/python3.7/dist-packages/sklearn/linear_model/_coordinate_descent.py:476: ConvergenceWarning: Objective did not converge. You might want to increase the number of iterations. Duality gap: 96.35325757690498, tolerance: 0.9180274149280325\n",
            "  positive)\n",
            "/usr/local/lib/python3.7/dist-packages/sklearn/linear_model/_coordinate_descent.py:476: ConvergenceWarning: Objective did not converge. You might want to increase the number of iterations. Duality gap: 99.37681343964414, tolerance: 0.9110510055531835\n",
            "  positive)\n",
            "/usr/local/lib/python3.7/dist-packages/sklearn/linear_model/_coordinate_descent.py:476: ConvergenceWarning: Objective did not converge. You might want to increase the number of iterations. Duality gap: 103.40583866118504, tolerance: 0.9166785100851067\n",
            "  positive)\n",
            "/usr/local/lib/python3.7/dist-packages/sklearn/linear_model/_coordinate_descent.py:476: ConvergenceWarning: Objective did not converge. You might want to increase the number of iterations. Duality gap: 103.29043978186655, tolerance: 0.918728216181202\n",
            "  positive)\n",
            "/usr/local/lib/python3.7/dist-packages/sklearn/linear_model/_coordinate_descent.py:476: ConvergenceWarning: Objective did not converge. You might want to increase the number of iterations. Duality gap: 101.14883634401758, tolerance: 0.9135565944644132\n",
            "  positive)\n",
            "/usr/local/lib/python3.7/dist-packages/sklearn/linear_model/_coordinate_descent.py:476: ConvergenceWarning: Objective did not converge. You might want to increase the number of iterations. Duality gap: 101.81397361896416, tolerance: 0.9180274149280325\n",
            "  positive)\n",
            "/usr/local/lib/python3.7/dist-packages/sklearn/linear_model/_coordinate_descent.py:476: ConvergenceWarning: Objective did not converge. You might want to increase the number of iterations. Duality gap: 100.63870073890303, tolerance: 0.9110510055531835\n",
            "  positive)\n",
            "/usr/local/lib/python3.7/dist-packages/sklearn/linear_model/_coordinate_descent.py:476: ConvergenceWarning: Objective did not converge. You might want to increase the number of iterations. Duality gap: 103.37631716532633, tolerance: 0.9166785100851067\n",
            "  positive)\n",
            "/usr/local/lib/python3.7/dist-packages/sklearn/linear_model/_coordinate_descent.py:476: ConvergenceWarning: Objective did not converge. You might want to increase the number of iterations. Duality gap: 103.52483016959923, tolerance: 0.918728216181202\n",
            "  positive)\n",
            "/usr/local/lib/python3.7/dist-packages/sklearn/linear_model/_coordinate_descent.py:476: ConvergenceWarning: Objective did not converge. You might want to increase the number of iterations. Duality gap: 101.16723723105952, tolerance: 0.9135565944644132\n",
            "  positive)\n",
            "/usr/local/lib/python3.7/dist-packages/sklearn/linear_model/_coordinate_descent.py:476: ConvergenceWarning: Objective did not converge. You might want to increase the number of iterations. Duality gap: 101.80416829452315, tolerance: 0.9180274149280325\n",
            "  positive)\n",
            "/usr/local/lib/python3.7/dist-packages/sklearn/linear_model/_coordinate_descent.py:476: ConvergenceWarning: Objective did not converge. You might want to increase the number of iterations. Duality gap: 100.6569259370981, tolerance: 0.9110510055531835\n",
            "  positive)\n",
            "/usr/local/lib/python3.7/dist-packages/sklearn/linear_model/_coordinate_descent.py:476: ConvergenceWarning: Objective did not converge. You might want to increase the number of iterations. Duality gap: 103.35338767300618, tolerance: 0.9166785100851067\n",
            "  positive)\n",
            "/usr/local/lib/python3.7/dist-packages/sklearn/linear_model/_coordinate_descent.py:476: ConvergenceWarning: Objective did not converge. You might want to increase the number of iterations. Duality gap: 103.57012091122488, tolerance: 0.918728216181202\n",
            "  positive)\n",
            "/usr/local/lib/python3.7/dist-packages/sklearn/linear_model/_coordinate_descent.py:476: ConvergenceWarning: Objective did not converge. You might want to increase the number of iterations. Duality gap: 101.16731671892921, tolerance: 0.9135565944644132\n",
            "  positive)\n",
            "/usr/local/lib/python3.7/dist-packages/sklearn/linear_model/_coordinate_descent.py:476: ConvergenceWarning: Objective did not converge. You might want to increase the number of iterations. Duality gap: 101.80419044393784, tolerance: 0.9180274149280325\n",
            "  positive)\n",
            "/usr/local/lib/python3.7/dist-packages/sklearn/linear_model/_coordinate_descent.py:476: ConvergenceWarning: Objective did not converge. You might want to increase the number of iterations. Duality gap: 100.65700494253906, tolerance: 0.9110510055531835\n",
            "  positive)\n",
            "/usr/local/lib/python3.7/dist-packages/sklearn/linear_model/_coordinate_descent.py:476: ConvergenceWarning: Objective did not converge. You might want to increase the number of iterations. Duality gap: 103.35347444111903, tolerance: 0.9166785100851067\n",
            "  positive)\n",
            "/usr/local/lib/python3.7/dist-packages/sklearn/linear_model/_coordinate_descent.py:476: ConvergenceWarning: Objective did not converge. You might want to increase the number of iterations. Duality gap: 103.57020856837698, tolerance: 0.918728216181202\n",
            "  positive)\n",
            "/usr/local/lib/python3.7/dist-packages/sklearn/linear_model/_coordinate_descent.py:476: ConvergenceWarning: Objective did not converge. You might want to increase the number of iterations. Duality gap: 101.2339252663005, tolerance: 0.9135565944644132\n",
            "  positive)\n",
            "/usr/local/lib/python3.7/dist-packages/sklearn/linear_model/_coordinate_descent.py:476: ConvergenceWarning: Objective did not converge. You might want to increase the number of iterations. Duality gap: 101.87035084592753, tolerance: 0.9180274149280325\n",
            "  positive)\n",
            "/usr/local/lib/python3.7/dist-packages/sklearn/linear_model/_coordinate_descent.py:476: ConvergenceWarning: Objective did not converge. You might want to increase the number of iterations. Duality gap: 100.72323588039308, tolerance: 0.9110510055531835\n",
            "  positive)\n",
            "/usr/local/lib/python3.7/dist-packages/sklearn/linear_model/_coordinate_descent.py:476: ConvergenceWarning: Objective did not converge. You might want to increase the number of iterations. Duality gap: 103.4204126452014, tolerance: 0.9166785100851067\n",
            "  positive)\n",
            "/usr/local/lib/python3.7/dist-packages/sklearn/linear_model/_coordinate_descent.py:476: ConvergenceWarning: Objective did not converge. You might want to increase the number of iterations. Duality gap: 103.63714758271817, tolerance: 0.918728216181202\n",
            "  positive)\n",
            "/usr/local/lib/python3.7/dist-packages/sklearn/linear_model/_coordinate_descent.py:476: ConvergenceWarning: Objective did not converge. You might want to increase the number of iterations. Duality gap: 127.72483194115375, tolerance: 1.1445113737485682\n",
            "  positive)\n"
          ]
        },
        {
          "output_type": "execute_result",
          "data": {
            "text/plain": [
              "GridSearchCV(cv=5, error_score=nan,\n",
              "             estimator=Lasso(alpha=1.0, copy_X=True, fit_intercept=True,\n",
              "                             max_iter=1000, normalize=False, positive=False,\n",
              "                             precompute=False, random_state=None,\n",
              "                             selection='cyclic', tol=0.0001, warm_start=False),\n",
              "             iid='deprecated', n_jobs=None,\n",
              "             param_grid={'alpha': [1e-15, 1e-13, 1e-10, 1e-08, 1e-05, 0.0001,\n",
              "                                   0.001, 0.01, 0.1, 1, 5, 10, 20, 30, 40, 45,\n",
              "                                   50, 55, 60, 100]},\n",
              "             pre_dispatch='2*n_jobs', refit=True, return_train_score=False,\n",
              "             scoring='r2', verbose=0)"
            ]
          },
          "metadata": {},
          "execution_count": 94
        }
      ]
    },
    {
      "cell_type": "code",
      "metadata": {
        "id": "TCe0oS7jsRcd",
        "outputId": "ae4c70c8-7183-402d-8c60-951d0e16fe18",
        "colab": {
          "base_uri": "https://localhost:8080/"
        }
      },
      "source": [
        "print('The best fit alpha value is found out to be :', lasso_regressor.best_params_)\n",
        "print('The R2 score using the same alpha is :', lasso_regressor.best_score_)"
      ],
      "execution_count": 95,
      "outputs": [
        {
          "output_type": "stream",
          "name": "stdout",
          "text": [
            "The best fit alpha value is found out to be : {'alpha': 1e-05}\n",
            "The R2 score using the same alpha is : 0.4301380311939881\n"
          ]
        }
      ]
    },
    {
      "cell_type": "code",
      "metadata": {
        "id": "haeQVyKDsTcb",
        "outputId": "ed602e38-1e77-4d31-b362-820145257b1a",
        "colab": {
          "base_uri": "https://localhost:8080/"
        }
      },
      "source": [
        "lasso_regressor.score(X_train, y_train)"
      ],
      "execution_count": 96,
      "outputs": [
        {
          "output_type": "execute_result",
          "data": {
            "text/plain": [
              "0.4304201366389363"
            ]
          },
          "metadata": {},
          "execution_count": 96
        }
      ]
    },
    {
      "cell_type": "code",
      "metadata": {
        "id": "rPG-4S4osckl"
      },
      "source": [
        "y_pred_lasso_train = lasso_regressor.predict(X_train)"
      ],
      "execution_count": 97,
      "outputs": []
    },
    {
      "cell_type": "code",
      "metadata": {
        "id": "KA2Djo1CsgFS"
      },
      "source": [
        "y_pred_lasso_test = lasso_regressor.predict(X_test)"
      ],
      "execution_count": 98,
      "outputs": []
    },
    {
      "cell_type": "code",
      "metadata": {
        "id": "DJj0k2aoshwk",
        "outputId": "4fde5ba3-ed42-4e71-bf23-65eff1cddfe2",
        "colab": {
          "base_uri": "https://localhost:8080/"
        }
      },
      "source": [
        "lasso_train_mse  = mean_squared_error(y_train, y_pred_lasso_train)\n",
        "print(\"Train MSE :\" , lasso_train_mse)\n",
        "\n",
        "lasso_train_rmse = np.sqrt(lasso_train_mse)\n",
        "print(\"Train RMSE :\" ,lasso_train_rmse)\n",
        "\n",
        "lasso_train_r2 = r2_score(y_train, y_pred_lasso_train)\n",
        "print(\"Train R2 :\" ,lasso_train_r2)\n",
        "\n",
        "lasso_train_r2_= 1-(1-r2_score(y_train, y_pred_lasso_train))*((X_train.shape[0]-1)/(X_train.shape[0]-X_train.shape[1]-1))\n",
        "print(\"Train Adjusted R2 : \", lasso_train_r2)"
      ],
      "execution_count": 99,
      "outputs": [
        {
          "output_type": "stream",
          "name": "stdout",
          "text": [
            "Train MSE : 0.06790527415363472\n",
            "Train RMSE : 0.2605864043913932\n",
            "Train R2 : 0.4304201366389363\n",
            "Train Adjusted R2 :  0.4304201366389363\n"
          ]
        }
      ]
    },
    {
      "cell_type": "code",
      "metadata": {
        "id": "q7DduRJTsjm3",
        "outputId": "1d9d7827-d862-48ee-c578-0b8a532c123d",
        "colab": {
          "base_uri": "https://localhost:8080/"
        }
      },
      "source": [
        "lasso_test_mse  = mean_squared_error(y_test, y_pred_lasso_test)\n",
        "print(\"Test MSE :\" , lasso_test_mse)\n",
        "\n",
        "lasso_test_rmse = np.sqrt(lasso_test_mse)\n",
        "print(\"Test RMSE :\" ,lasso_test_rmse)\n",
        "\n",
        "lasso_test_r2 = r2_score(y_test, y_pred_lasso_test)\n",
        "print(\"Test R2 :\" ,lasso_test_r2)\n",
        "\n",
        "lasso_test_r2_= 1-(1-r2_score(y_test, y_pred_lasso_test))*((X_test.shape[0]-1)/(X_test.shape[0]-X_test.shape[1]-1))\n",
        "print(\"Test Adjusted R2 : \", lasso_test_r2_)"
      ],
      "execution_count": 100,
      "outputs": [
        {
          "output_type": "stream",
          "name": "stdout",
          "text": [
            "Test MSE : 0.07044583980215652\n",
            "Test RMSE : 0.26541635179874756\n",
            "Test R2 : 0.42413306364815107\n",
            "Test Adjusted R2 :  0.4237488802273267\n"
          ]
        }
      ]
    },
    {
      "cell_type": "code",
      "metadata": {
        "id": "hXM619O_snMG",
        "outputId": "36a36b3b-9b82-4776-c0cc-acda7466d73f",
        "colab": {
          "base_uri": "https://localhost:8080/"
        }
      },
      "source": [
        "# ridge\n",
        "from sklearn.linear_model import Ridge\n",
        "#Cross validation\n",
        "ridge = Ridge()\n",
        "parameters = {'alpha': [1e-15,1e-13,1e-10,1e-8,1e-5,1e-4,1e-3,1e-2,1e-1,1,5,10,20,30,40,45,50,55,60,100]}\n",
        "ridge_regressor = GridSearchCV(ridge, parameters, scoring='r2', cv=5)\n",
        "ridge_regressor.fit(X_train, y_train)"
      ],
      "execution_count": 101,
      "outputs": [
        {
          "output_type": "execute_result",
          "data": {
            "text/plain": [
              "GridSearchCV(cv=5, error_score=nan,\n",
              "             estimator=Ridge(alpha=1.0, copy_X=True, fit_intercept=True,\n",
              "                             max_iter=None, normalize=False, random_state=None,\n",
              "                             solver='auto', tol=0.001),\n",
              "             iid='deprecated', n_jobs=None,\n",
              "             param_grid={'alpha': [1e-15, 1e-13, 1e-10, 1e-08, 1e-05, 0.0001,\n",
              "                                   0.001, 0.01, 0.1, 1, 5, 10, 20, 30, 40, 45,\n",
              "                                   50, 55, 60, 100]},\n",
              "             pre_dispatch='2*n_jobs', refit=True, return_train_score=False,\n",
              "             scoring='r2', verbose=0)"
            ]
          },
          "metadata": {},
          "execution_count": 101
        }
      ]
    },
    {
      "cell_type": "code",
      "metadata": {
        "id": "bzLhIXRPs62J",
        "outputId": "e78be0a2-b754-48da-8241-4aff0f37544e",
        "colab": {
          "base_uri": "https://localhost:8080/"
        }
      },
      "source": [
        "print('The best fit alpha value is found out to be :' ,ridge_regressor.best_params_)\n",
        "print('The R2 score using the same alpha is :', lasso_regressor.best_score_)"
      ],
      "execution_count": 102,
      "outputs": [
        {
          "output_type": "stream",
          "name": "stdout",
          "text": [
            "The best fit alpha value is found out to be : {'alpha': 30}\n",
            "The R2 score using the same alpha is : 0.4301380311939881\n"
          ]
        }
      ]
    },
    {
      "cell_type": "code",
      "metadata": {
        "id": "yu3ZSAt3s9lo",
        "outputId": "c9f543cb-c52c-481b-d311-20208094ddf7",
        "colab": {
          "base_uri": "https://localhost:8080/"
        }
      },
      "source": [
        "ridge_regressor.score(X_train, y_train)"
      ],
      "execution_count": 103,
      "outputs": [
        {
          "output_type": "execute_result",
          "data": {
            "text/plain": [
              "0.43042002988774564"
            ]
          },
          "metadata": {},
          "execution_count": 103
        }
      ]
    },
    {
      "cell_type": "code",
      "metadata": {
        "id": "Cy45cyhds_6_"
      },
      "source": [
        "y_pred_ridge_train=ridge_regressor.predict(X_train)\n",
        "y_pred_ridge_test = ridge_regressor.predict(X_test)"
      ],
      "execution_count": 104,
      "outputs": []
    },
    {
      "cell_type": "code",
      "metadata": {
        "id": "7ilnMRXutDi9",
        "outputId": "6b3cb476-87e5-453d-d9da-044262b1f7a8",
        "colab": {
          "base_uri": "https://localhost:8080/"
        }
      },
      "source": [
        "ridge_train_mse  = mean_squared_error(y_train, y_pred_ridge_train)\n",
        "print(\"Train MSE :\" , ridge_train_mse)\n",
        "\n",
        "ridge_train_rmse = np.sqrt(ridge_train_mse)\n",
        "print(\"Train RMSE :\" ,ridge_train_rmse)\n",
        "\n",
        "ridge_train_r2 = r2_score(y_train, y_pred_ridge_train)\n",
        "print(\"Train R2 :\" ,ridge_train_r2)\n",
        "\n",
        "ridge_train_r2_= 1-(1-r2_score(y_train, y_pred_ridge_train))*((X_train.shape[0]-1)/(X_train.shape[0]-X_train.shape[1]-1))\n",
        "print(\"Train Adjusted R2 : \", ridge_train_r2)"
      ],
      "execution_count": 105,
      "outputs": [
        {
          "output_type": "stream",
          "name": "stdout",
          "text": [
            "Train MSE : 0.0679052868805047\n",
            "Train RMSE : 0.26058642881106586\n",
            "Train R2 : 0.43042002988774564\n",
            "Train Adjusted R2 :  0.43042002988774564\n"
          ]
        }
      ]
    },
    {
      "cell_type": "code",
      "metadata": {
        "id": "mD-HkmuMtFQ4",
        "outputId": "a9c460c0-29b5-4c98-9914-352ae5745188",
        "colab": {
          "base_uri": "https://localhost:8080/"
        }
      },
      "source": [
        "ridge_test_mse  = mean_squared_error(y_test, y_pred_ridge_test)\n",
        "print(\"Test MSE :\" , ridge_test_mse)\n",
        "\n",
        "ridge_test_rmse = np.sqrt(ridge_test_mse)\n",
        "print(\"Test RMSE :\" ,ridge_test_rmse)\n",
        "\n",
        "ridge_test_r2 = r2_score(y_test, y_pred_ridge_test)\n",
        "print(\"Test R2 :\" ,ridge_test_r2)\n",
        "\n",
        "ridge_test_r2_= 1-(1-r2_score(y_test, y_pred_ridge_test))*((X_test.shape[0]-1)/(X_test.shape[0]-X_test.shape[1]-1))\n",
        "print(\"Test Adjusted R2 : \", ridge_test_r2_)"
      ],
      "execution_count": 107,
      "outputs": [
        {
          "output_type": "stream",
          "name": "stdout",
          "text": [
            "Test MSE : 0.0704452352550793\n",
            "Test RMSE : 0.2654152129307574\n",
            "Test R2 : 0.4241380055819006\n",
            "Test Adjusted R2 :  0.4237538254580341\n"
          ]
        }
      ]
    },
    {
      "cell_type": "markdown",
      "metadata": {
        "id": "m5CKdulNtTpJ"
      },
      "source": [
        "decision tree"
      ]
    },
    {
      "cell_type": "code",
      "metadata": {
        "id": "GwcuKTT_tHTJ"
      },
      "source": [
        "from sklearn.tree import DecisionTreeRegressor"
      ],
      "execution_count": 109,
      "outputs": []
    },
    {
      "cell_type": "code",
      "metadata": {
        "id": "Yak4Zl_vtSxd"
      },
      "source": [
        "# Maximum depth of trees\n",
        "max_depth = [4,6,8,10]\n",
        "\n",
        "# Minimum number of samples required to split a node\n",
        "min_samples_split = [10,20,30]\n",
        "\n",
        "# Minimum number of samples required at each leaf node\n",
        "min_samples_leaf = [8,16,22]\n",
        "\n",
        "# HYperparameter Grid\n",
        "param_dict_dt = {\n",
        "              'max_depth' : max_depth,\n",
        "              'min_samples_split' : min_samples_split,\n",
        "              'min_samples_leaf' : min_samples_leaf}"
      ],
      "execution_count": 110,
      "outputs": []
    },
    {
      "cell_type": "code",
      "metadata": {
        "id": "jm5A237itZqx",
        "outputId": "e5901642-c65a-4ad2-9865-4355422234b1",
        "colab": {
          "base_uri": "https://localhost:8080/"
        }
      },
      "source": [
        "dt = DecisionTreeRegressor()\n",
        "\n",
        "# Grid search\n",
        "dt_grid = GridSearchCV(estimator=dt,\n",
        "                       param_grid = param_dict_dt,\n",
        "                       cv = 5, verbose=2, scoring='r2')\n",
        "\n",
        "dt_grid.fit(X_train,y_train)"
      ],
      "execution_count": 111,
      "outputs": [
        {
          "output_type": "stream",
          "name": "stdout",
          "text": [
            "Fitting 5 folds for each of 36 candidates, totalling 180 fits\n",
            "[CV] max_depth=4, min_samples_leaf=8, min_samples_split=10 ...........\n"
          ]
        },
        {
          "output_type": "stream",
          "name": "stderr",
          "text": [
            "[Parallel(n_jobs=1)]: Using backend SequentialBackend with 1 concurrent workers.\n"
          ]
        },
        {
          "output_type": "stream",
          "name": "stdout",
          "text": [
            "[CV]  max_depth=4, min_samples_leaf=8, min_samples_split=10, total=   0.3s\n",
            "[CV] max_depth=4, min_samples_leaf=8, min_samples_split=10 ...........\n"
          ]
        },
        {
          "output_type": "stream",
          "name": "stderr",
          "text": [
            "[Parallel(n_jobs=1)]: Done   1 out of   1 | elapsed:    0.3s remaining:    0.0s\n"
          ]
        },
        {
          "output_type": "stream",
          "name": "stdout",
          "text": [
            "[CV]  max_depth=4, min_samples_leaf=8, min_samples_split=10, total=   0.3s\n",
            "[CV] max_depth=4, min_samples_leaf=8, min_samples_split=10 ...........\n",
            "[CV]  max_depth=4, min_samples_leaf=8, min_samples_split=10, total=   0.3s\n",
            "[CV] max_depth=4, min_samples_leaf=8, min_samples_split=10 ...........\n",
            "[CV]  max_depth=4, min_samples_leaf=8, min_samples_split=10, total=   0.3s\n",
            "[CV] max_depth=4, min_samples_leaf=8, min_samples_split=10 ...........\n",
            "[CV]  max_depth=4, min_samples_leaf=8, min_samples_split=10, total=   0.3s\n",
            "[CV] max_depth=4, min_samples_leaf=8, min_samples_split=20 ...........\n",
            "[CV]  max_depth=4, min_samples_leaf=8, min_samples_split=20, total=   0.3s\n",
            "[CV] max_depth=4, min_samples_leaf=8, min_samples_split=20 ...........\n",
            "[CV]  max_depth=4, min_samples_leaf=8, min_samples_split=20, total=   0.3s\n",
            "[CV] max_depth=4, min_samples_leaf=8, min_samples_split=20 ...........\n",
            "[CV]  max_depth=4, min_samples_leaf=8, min_samples_split=20, total=   0.3s\n",
            "[CV] max_depth=4, min_samples_leaf=8, min_samples_split=20 ...........\n",
            "[CV]  max_depth=4, min_samples_leaf=8, min_samples_split=20, total=   0.3s\n",
            "[CV] max_depth=4, min_samples_leaf=8, min_samples_split=20 ...........\n",
            "[CV]  max_depth=4, min_samples_leaf=8, min_samples_split=20, total=   0.3s\n",
            "[CV] max_depth=4, min_samples_leaf=8, min_samples_split=30 ...........\n",
            "[CV]  max_depth=4, min_samples_leaf=8, min_samples_split=30, total=   0.3s\n",
            "[CV] max_depth=4, min_samples_leaf=8, min_samples_split=30 ...........\n",
            "[CV]  max_depth=4, min_samples_leaf=8, min_samples_split=30, total=   0.3s\n",
            "[CV] max_depth=4, min_samples_leaf=8, min_samples_split=30 ...........\n",
            "[CV]  max_depth=4, min_samples_leaf=8, min_samples_split=30, total=   0.3s\n",
            "[CV] max_depth=4, min_samples_leaf=8, min_samples_split=30 ...........\n",
            "[CV]  max_depth=4, min_samples_leaf=8, min_samples_split=30, total=   0.3s\n",
            "[CV] max_depth=4, min_samples_leaf=8, min_samples_split=30 ...........\n",
            "[CV]  max_depth=4, min_samples_leaf=8, min_samples_split=30, total=   0.3s\n",
            "[CV] max_depth=4, min_samples_leaf=16, min_samples_split=10 ..........\n",
            "[CV]  max_depth=4, min_samples_leaf=16, min_samples_split=10, total=   0.3s\n",
            "[CV] max_depth=4, min_samples_leaf=16, min_samples_split=10 ..........\n",
            "[CV]  max_depth=4, min_samples_leaf=16, min_samples_split=10, total=   0.3s\n",
            "[CV] max_depth=4, min_samples_leaf=16, min_samples_split=10 ..........\n",
            "[CV]  max_depth=4, min_samples_leaf=16, min_samples_split=10, total=   0.3s\n",
            "[CV] max_depth=4, min_samples_leaf=16, min_samples_split=10 ..........\n",
            "[CV]  max_depth=4, min_samples_leaf=16, min_samples_split=10, total=   0.3s\n",
            "[CV] max_depth=4, min_samples_leaf=16, min_samples_split=10 ..........\n",
            "[CV]  max_depth=4, min_samples_leaf=16, min_samples_split=10, total=   0.3s\n",
            "[CV] max_depth=4, min_samples_leaf=16, min_samples_split=20 ..........\n",
            "[CV]  max_depth=4, min_samples_leaf=16, min_samples_split=20, total=   0.3s\n",
            "[CV] max_depth=4, min_samples_leaf=16, min_samples_split=20 ..........\n",
            "[CV]  max_depth=4, min_samples_leaf=16, min_samples_split=20, total=   0.3s\n",
            "[CV] max_depth=4, min_samples_leaf=16, min_samples_split=20 ..........\n",
            "[CV]  max_depth=4, min_samples_leaf=16, min_samples_split=20, total=   0.3s\n",
            "[CV] max_depth=4, min_samples_leaf=16, min_samples_split=20 ..........\n",
            "[CV]  max_depth=4, min_samples_leaf=16, min_samples_split=20, total=   0.3s\n",
            "[CV] max_depth=4, min_samples_leaf=16, min_samples_split=20 ..........\n",
            "[CV]  max_depth=4, min_samples_leaf=16, min_samples_split=20, total=   0.3s\n",
            "[CV] max_depth=4, min_samples_leaf=16, min_samples_split=30 ..........\n",
            "[CV]  max_depth=4, min_samples_leaf=16, min_samples_split=30, total=   0.3s\n",
            "[CV] max_depth=4, min_samples_leaf=16, min_samples_split=30 ..........\n",
            "[CV]  max_depth=4, min_samples_leaf=16, min_samples_split=30, total=   0.3s\n",
            "[CV] max_depth=4, min_samples_leaf=16, min_samples_split=30 ..........\n",
            "[CV]  max_depth=4, min_samples_leaf=16, min_samples_split=30, total=   0.3s\n",
            "[CV] max_depth=4, min_samples_leaf=16, min_samples_split=30 ..........\n",
            "[CV]  max_depth=4, min_samples_leaf=16, min_samples_split=30, total=   0.3s\n",
            "[CV] max_depth=4, min_samples_leaf=16, min_samples_split=30 ..........\n",
            "[CV]  max_depth=4, min_samples_leaf=16, min_samples_split=30, total=   0.3s\n",
            "[CV] max_depth=4, min_samples_leaf=22, min_samples_split=10 ..........\n",
            "[CV]  max_depth=4, min_samples_leaf=22, min_samples_split=10, total=   0.3s\n",
            "[CV] max_depth=4, min_samples_leaf=22, min_samples_split=10 ..........\n",
            "[CV]  max_depth=4, min_samples_leaf=22, min_samples_split=10, total=   0.3s\n",
            "[CV] max_depth=4, min_samples_leaf=22, min_samples_split=10 ..........\n",
            "[CV]  max_depth=4, min_samples_leaf=22, min_samples_split=10, total=   0.3s\n",
            "[CV] max_depth=4, min_samples_leaf=22, min_samples_split=10 ..........\n",
            "[CV]  max_depth=4, min_samples_leaf=22, min_samples_split=10, total=   0.3s\n",
            "[CV] max_depth=4, min_samples_leaf=22, min_samples_split=10 ..........\n",
            "[CV]  max_depth=4, min_samples_leaf=22, min_samples_split=10, total=   0.3s\n",
            "[CV] max_depth=4, min_samples_leaf=22, min_samples_split=20 ..........\n",
            "[CV]  max_depth=4, min_samples_leaf=22, min_samples_split=20, total=   0.3s\n",
            "[CV] max_depth=4, min_samples_leaf=22, min_samples_split=20 ..........\n",
            "[CV]  max_depth=4, min_samples_leaf=22, min_samples_split=20, total=   0.3s\n",
            "[CV] max_depth=4, min_samples_leaf=22, min_samples_split=20 ..........\n",
            "[CV]  max_depth=4, min_samples_leaf=22, min_samples_split=20, total=   0.3s\n",
            "[CV] max_depth=4, min_samples_leaf=22, min_samples_split=20 ..........\n",
            "[CV]  max_depth=4, min_samples_leaf=22, min_samples_split=20, total=   0.3s\n",
            "[CV] max_depth=4, min_samples_leaf=22, min_samples_split=20 ..........\n",
            "[CV]  max_depth=4, min_samples_leaf=22, min_samples_split=20, total=   0.3s\n",
            "[CV] max_depth=4, min_samples_leaf=22, min_samples_split=30 ..........\n",
            "[CV]  max_depth=4, min_samples_leaf=22, min_samples_split=30, total=   0.3s\n",
            "[CV] max_depth=4, min_samples_leaf=22, min_samples_split=30 ..........\n",
            "[CV]  max_depth=4, min_samples_leaf=22, min_samples_split=30, total=   0.3s\n",
            "[CV] max_depth=4, min_samples_leaf=22, min_samples_split=30 ..........\n",
            "[CV]  max_depth=4, min_samples_leaf=22, min_samples_split=30, total=   0.3s\n",
            "[CV] max_depth=4, min_samples_leaf=22, min_samples_split=30 ..........\n",
            "[CV]  max_depth=4, min_samples_leaf=22, min_samples_split=30, total=   0.3s\n",
            "[CV] max_depth=4, min_samples_leaf=22, min_samples_split=30 ..........\n",
            "[CV]  max_depth=4, min_samples_leaf=22, min_samples_split=30, total=   0.3s\n",
            "[CV] max_depth=6, min_samples_leaf=8, min_samples_split=10 ...........\n",
            "[CV]  max_depth=6, min_samples_leaf=8, min_samples_split=10, total=   0.4s\n",
            "[CV] max_depth=6, min_samples_leaf=8, min_samples_split=10 ...........\n",
            "[CV]  max_depth=6, min_samples_leaf=8, min_samples_split=10, total=   0.4s\n",
            "[CV] max_depth=6, min_samples_leaf=8, min_samples_split=10 ...........\n",
            "[CV]  max_depth=6, min_samples_leaf=8, min_samples_split=10, total=   0.4s\n",
            "[CV] max_depth=6, min_samples_leaf=8, min_samples_split=10 ...........\n",
            "[CV]  max_depth=6, min_samples_leaf=8, min_samples_split=10, total=   0.4s\n",
            "[CV] max_depth=6, min_samples_leaf=8, min_samples_split=10 ...........\n",
            "[CV]  max_depth=6, min_samples_leaf=8, min_samples_split=10, total=   0.4s\n",
            "[CV] max_depth=6, min_samples_leaf=8, min_samples_split=20 ...........\n",
            "[CV]  max_depth=6, min_samples_leaf=8, min_samples_split=20, total=   0.4s\n",
            "[CV] max_depth=6, min_samples_leaf=8, min_samples_split=20 ...........\n",
            "[CV]  max_depth=6, min_samples_leaf=8, min_samples_split=20, total=   0.4s\n",
            "[CV] max_depth=6, min_samples_leaf=8, min_samples_split=20 ...........\n",
            "[CV]  max_depth=6, min_samples_leaf=8, min_samples_split=20, total=   0.4s\n",
            "[CV] max_depth=6, min_samples_leaf=8, min_samples_split=20 ...........\n",
            "[CV]  max_depth=6, min_samples_leaf=8, min_samples_split=20, total=   0.4s\n",
            "[CV] max_depth=6, min_samples_leaf=8, min_samples_split=20 ...........\n",
            "[CV]  max_depth=6, min_samples_leaf=8, min_samples_split=20, total=   0.4s\n",
            "[CV] max_depth=6, min_samples_leaf=8, min_samples_split=30 ...........\n",
            "[CV]  max_depth=6, min_samples_leaf=8, min_samples_split=30, total=   0.4s\n",
            "[CV] max_depth=6, min_samples_leaf=8, min_samples_split=30 ...........\n",
            "[CV]  max_depth=6, min_samples_leaf=8, min_samples_split=30, total=   0.4s\n",
            "[CV] max_depth=6, min_samples_leaf=8, min_samples_split=30 ...........\n",
            "[CV]  max_depth=6, min_samples_leaf=8, min_samples_split=30, total=   0.4s\n",
            "[CV] max_depth=6, min_samples_leaf=8, min_samples_split=30 ...........\n",
            "[CV]  max_depth=6, min_samples_leaf=8, min_samples_split=30, total=   0.4s\n",
            "[CV] max_depth=6, min_samples_leaf=8, min_samples_split=30 ...........\n",
            "[CV]  max_depth=6, min_samples_leaf=8, min_samples_split=30, total=   0.4s\n",
            "[CV] max_depth=6, min_samples_leaf=16, min_samples_split=10 ..........\n",
            "[CV]  max_depth=6, min_samples_leaf=16, min_samples_split=10, total=   0.4s\n",
            "[CV] max_depth=6, min_samples_leaf=16, min_samples_split=10 ..........\n",
            "[CV]  max_depth=6, min_samples_leaf=16, min_samples_split=10, total=   0.4s\n",
            "[CV] max_depth=6, min_samples_leaf=16, min_samples_split=10 ..........\n",
            "[CV]  max_depth=6, min_samples_leaf=16, min_samples_split=10, total=   0.4s\n",
            "[CV] max_depth=6, min_samples_leaf=16, min_samples_split=10 ..........\n",
            "[CV]  max_depth=6, min_samples_leaf=16, min_samples_split=10, total=   0.4s\n",
            "[CV] max_depth=6, min_samples_leaf=16, min_samples_split=10 ..........\n",
            "[CV]  max_depth=6, min_samples_leaf=16, min_samples_split=10, total=   0.4s\n",
            "[CV] max_depth=6, min_samples_leaf=16, min_samples_split=20 ..........\n",
            "[CV]  max_depth=6, min_samples_leaf=16, min_samples_split=20, total=   0.4s\n",
            "[CV] max_depth=6, min_samples_leaf=16, min_samples_split=20 ..........\n",
            "[CV]  max_depth=6, min_samples_leaf=16, min_samples_split=20, total=   0.4s\n",
            "[CV] max_depth=6, min_samples_leaf=16, min_samples_split=20 ..........\n",
            "[CV]  max_depth=6, min_samples_leaf=16, min_samples_split=20, total=   0.4s\n",
            "[CV] max_depth=6, min_samples_leaf=16, min_samples_split=20 ..........\n",
            "[CV]  max_depth=6, min_samples_leaf=16, min_samples_split=20, total=   0.4s\n",
            "[CV] max_depth=6, min_samples_leaf=16, min_samples_split=20 ..........\n",
            "[CV]  max_depth=6, min_samples_leaf=16, min_samples_split=20, total=   0.4s\n",
            "[CV] max_depth=6, min_samples_leaf=16, min_samples_split=30 ..........\n",
            "[CV]  max_depth=6, min_samples_leaf=16, min_samples_split=30, total=   0.4s\n",
            "[CV] max_depth=6, min_samples_leaf=16, min_samples_split=30 ..........\n",
            "[CV]  max_depth=6, min_samples_leaf=16, min_samples_split=30, total=   0.4s\n",
            "[CV] max_depth=6, min_samples_leaf=16, min_samples_split=30 ..........\n",
            "[CV]  max_depth=6, min_samples_leaf=16, min_samples_split=30, total=   0.4s\n",
            "[CV] max_depth=6, min_samples_leaf=16, min_samples_split=30 ..........\n",
            "[CV]  max_depth=6, min_samples_leaf=16, min_samples_split=30, total=   0.4s\n",
            "[CV] max_depth=6, min_samples_leaf=16, min_samples_split=30 ..........\n",
            "[CV]  max_depth=6, min_samples_leaf=16, min_samples_split=30, total=   0.4s\n",
            "[CV] max_depth=6, min_samples_leaf=22, min_samples_split=10 ..........\n",
            "[CV]  max_depth=6, min_samples_leaf=22, min_samples_split=10, total=   0.4s\n",
            "[CV] max_depth=6, min_samples_leaf=22, min_samples_split=10 ..........\n",
            "[CV]  max_depth=6, min_samples_leaf=22, min_samples_split=10, total=   0.4s\n",
            "[CV] max_depth=6, min_samples_leaf=22, min_samples_split=10 ..........\n",
            "[CV]  max_depth=6, min_samples_leaf=22, min_samples_split=10, total=   0.4s\n",
            "[CV] max_depth=6, min_samples_leaf=22, min_samples_split=10 ..........\n",
            "[CV]  max_depth=6, min_samples_leaf=22, min_samples_split=10, total=   0.4s\n",
            "[CV] max_depth=6, min_samples_leaf=22, min_samples_split=10 ..........\n",
            "[CV]  max_depth=6, min_samples_leaf=22, min_samples_split=10, total=   0.4s\n",
            "[CV] max_depth=6, min_samples_leaf=22, min_samples_split=20 ..........\n",
            "[CV]  max_depth=6, min_samples_leaf=22, min_samples_split=20, total=   0.4s\n",
            "[CV] max_depth=6, min_samples_leaf=22, min_samples_split=20 ..........\n",
            "[CV]  max_depth=6, min_samples_leaf=22, min_samples_split=20, total=   0.4s\n",
            "[CV] max_depth=6, min_samples_leaf=22, min_samples_split=20 ..........\n",
            "[CV]  max_depth=6, min_samples_leaf=22, min_samples_split=20, total=   0.4s\n",
            "[CV] max_depth=6, min_samples_leaf=22, min_samples_split=20 ..........\n",
            "[CV]  max_depth=6, min_samples_leaf=22, min_samples_split=20, total=   0.4s\n",
            "[CV] max_depth=6, min_samples_leaf=22, min_samples_split=20 ..........\n",
            "[CV]  max_depth=6, min_samples_leaf=22, min_samples_split=20, total=   0.4s\n",
            "[CV] max_depth=6, min_samples_leaf=22, min_samples_split=30 ..........\n",
            "[CV]  max_depth=6, min_samples_leaf=22, min_samples_split=30, total=   0.4s\n",
            "[CV] max_depth=6, min_samples_leaf=22, min_samples_split=30 ..........\n",
            "[CV]  max_depth=6, min_samples_leaf=22, min_samples_split=30, total=   0.4s\n",
            "[CV] max_depth=6, min_samples_leaf=22, min_samples_split=30 ..........\n",
            "[CV]  max_depth=6, min_samples_leaf=22, min_samples_split=30, total=   0.4s\n",
            "[CV] max_depth=6, min_samples_leaf=22, min_samples_split=30 ..........\n",
            "[CV]  max_depth=6, min_samples_leaf=22, min_samples_split=30, total=   0.4s\n",
            "[CV] max_depth=6, min_samples_leaf=22, min_samples_split=30 ..........\n",
            "[CV]  max_depth=6, min_samples_leaf=22, min_samples_split=30, total=   0.4s\n",
            "[CV] max_depth=8, min_samples_leaf=8, min_samples_split=10 ...........\n",
            "[CV]  max_depth=8, min_samples_leaf=8, min_samples_split=10, total=   0.5s\n",
            "[CV] max_depth=8, min_samples_leaf=8, min_samples_split=10 ...........\n",
            "[CV]  max_depth=8, min_samples_leaf=8, min_samples_split=10, total=   0.5s\n",
            "[CV] max_depth=8, min_samples_leaf=8, min_samples_split=10 ...........\n",
            "[CV]  max_depth=8, min_samples_leaf=8, min_samples_split=10, total=   0.5s\n",
            "[CV] max_depth=8, min_samples_leaf=8, min_samples_split=10 ...........\n",
            "[CV]  max_depth=8, min_samples_leaf=8, min_samples_split=10, total=   0.5s\n",
            "[CV] max_depth=8, min_samples_leaf=8, min_samples_split=10 ...........\n",
            "[CV]  max_depth=8, min_samples_leaf=8, min_samples_split=10, total=   0.5s\n",
            "[CV] max_depth=8, min_samples_leaf=8, min_samples_split=20 ...........\n",
            "[CV]  max_depth=8, min_samples_leaf=8, min_samples_split=20, total=   0.5s\n",
            "[CV] max_depth=8, min_samples_leaf=8, min_samples_split=20 ...........\n",
            "[CV]  max_depth=8, min_samples_leaf=8, min_samples_split=20, total=   0.5s\n",
            "[CV] max_depth=8, min_samples_leaf=8, min_samples_split=20 ...........\n",
            "[CV]  max_depth=8, min_samples_leaf=8, min_samples_split=20, total=   0.5s\n",
            "[CV] max_depth=8, min_samples_leaf=8, min_samples_split=20 ...........\n",
            "[CV]  max_depth=8, min_samples_leaf=8, min_samples_split=20, total=   0.5s\n",
            "[CV] max_depth=8, min_samples_leaf=8, min_samples_split=20 ...........\n",
            "[CV]  max_depth=8, min_samples_leaf=8, min_samples_split=20, total=   0.5s\n",
            "[CV] max_depth=8, min_samples_leaf=8, min_samples_split=30 ...........\n",
            "[CV]  max_depth=8, min_samples_leaf=8, min_samples_split=30, total=   0.5s\n",
            "[CV] max_depth=8, min_samples_leaf=8, min_samples_split=30 ...........\n",
            "[CV]  max_depth=8, min_samples_leaf=8, min_samples_split=30, total=   0.5s\n",
            "[CV] max_depth=8, min_samples_leaf=8, min_samples_split=30 ...........\n",
            "[CV]  max_depth=8, min_samples_leaf=8, min_samples_split=30, total=   0.5s\n",
            "[CV] max_depth=8, min_samples_leaf=8, min_samples_split=30 ...........\n",
            "[CV]  max_depth=8, min_samples_leaf=8, min_samples_split=30, total=   0.5s\n",
            "[CV] max_depth=8, min_samples_leaf=8, min_samples_split=30 ...........\n",
            "[CV]  max_depth=8, min_samples_leaf=8, min_samples_split=30, total=   0.5s\n",
            "[CV] max_depth=8, min_samples_leaf=16, min_samples_split=10 ..........\n",
            "[CV]  max_depth=8, min_samples_leaf=16, min_samples_split=10, total=   0.5s\n",
            "[CV] max_depth=8, min_samples_leaf=16, min_samples_split=10 ..........\n",
            "[CV]  max_depth=8, min_samples_leaf=16, min_samples_split=10, total=   0.5s\n",
            "[CV] max_depth=8, min_samples_leaf=16, min_samples_split=10 ..........\n",
            "[CV]  max_depth=8, min_samples_leaf=16, min_samples_split=10, total=   0.5s\n",
            "[CV] max_depth=8, min_samples_leaf=16, min_samples_split=10 ..........\n",
            "[CV]  max_depth=8, min_samples_leaf=16, min_samples_split=10, total=   0.5s\n",
            "[CV] max_depth=8, min_samples_leaf=16, min_samples_split=10 ..........\n",
            "[CV]  max_depth=8, min_samples_leaf=16, min_samples_split=10, total=   0.5s\n",
            "[CV] max_depth=8, min_samples_leaf=16, min_samples_split=20 ..........\n",
            "[CV]  max_depth=8, min_samples_leaf=16, min_samples_split=20, total=   0.5s\n",
            "[CV] max_depth=8, min_samples_leaf=16, min_samples_split=20 ..........\n",
            "[CV]  max_depth=8, min_samples_leaf=16, min_samples_split=20, total=   0.5s\n",
            "[CV] max_depth=8, min_samples_leaf=16, min_samples_split=20 ..........\n",
            "[CV]  max_depth=8, min_samples_leaf=16, min_samples_split=20, total=   0.5s\n",
            "[CV] max_depth=8, min_samples_leaf=16, min_samples_split=20 ..........\n",
            "[CV]  max_depth=8, min_samples_leaf=16, min_samples_split=20, total=   0.5s\n",
            "[CV] max_depth=8, min_samples_leaf=16, min_samples_split=20 ..........\n",
            "[CV]  max_depth=8, min_samples_leaf=16, min_samples_split=20, total=   0.5s\n",
            "[CV] max_depth=8, min_samples_leaf=16, min_samples_split=30 ..........\n",
            "[CV]  max_depth=8, min_samples_leaf=16, min_samples_split=30, total=   0.5s\n",
            "[CV] max_depth=8, min_samples_leaf=16, min_samples_split=30 ..........\n",
            "[CV]  max_depth=8, min_samples_leaf=16, min_samples_split=30, total=   0.5s\n",
            "[CV] max_depth=8, min_samples_leaf=16, min_samples_split=30 ..........\n",
            "[CV]  max_depth=8, min_samples_leaf=16, min_samples_split=30, total=   0.5s\n",
            "[CV] max_depth=8, min_samples_leaf=16, min_samples_split=30 ..........\n",
            "[CV]  max_depth=8, min_samples_leaf=16, min_samples_split=30, total=   0.5s\n",
            "[CV] max_depth=8, min_samples_leaf=16, min_samples_split=30 ..........\n",
            "[CV]  max_depth=8, min_samples_leaf=16, min_samples_split=30, total=   0.5s\n",
            "[CV] max_depth=8, min_samples_leaf=22, min_samples_split=10 ..........\n",
            "[CV]  max_depth=8, min_samples_leaf=22, min_samples_split=10, total=   0.5s\n",
            "[CV] max_depth=8, min_samples_leaf=22, min_samples_split=10 ..........\n",
            "[CV]  max_depth=8, min_samples_leaf=22, min_samples_split=10, total=   0.5s\n",
            "[CV] max_depth=8, min_samples_leaf=22, min_samples_split=10 ..........\n",
            "[CV]  max_depth=8, min_samples_leaf=22, min_samples_split=10, total=   0.5s\n",
            "[CV] max_depth=8, min_samples_leaf=22, min_samples_split=10 ..........\n",
            "[CV]  max_depth=8, min_samples_leaf=22, min_samples_split=10, total=   0.5s\n",
            "[CV] max_depth=8, min_samples_leaf=22, min_samples_split=10 ..........\n",
            "[CV]  max_depth=8, min_samples_leaf=22, min_samples_split=10, total=   0.5s\n",
            "[CV] max_depth=8, min_samples_leaf=22, min_samples_split=20 ..........\n",
            "[CV]  max_depth=8, min_samples_leaf=22, min_samples_split=20, total=   0.5s\n",
            "[CV] max_depth=8, min_samples_leaf=22, min_samples_split=20 ..........\n",
            "[CV]  max_depth=8, min_samples_leaf=22, min_samples_split=20, total=   0.5s\n",
            "[CV] max_depth=8, min_samples_leaf=22, min_samples_split=20 ..........\n",
            "[CV]  max_depth=8, min_samples_leaf=22, min_samples_split=20, total=   0.5s\n",
            "[CV] max_depth=8, min_samples_leaf=22, min_samples_split=20 ..........\n",
            "[CV]  max_depth=8, min_samples_leaf=22, min_samples_split=20, total=   0.5s\n",
            "[CV] max_depth=8, min_samples_leaf=22, min_samples_split=20 ..........\n",
            "[CV]  max_depth=8, min_samples_leaf=22, min_samples_split=20, total=   0.5s\n",
            "[CV] max_depth=8, min_samples_leaf=22, min_samples_split=30 ..........\n",
            "[CV]  max_depth=8, min_samples_leaf=22, min_samples_split=30, total=   0.5s\n",
            "[CV] max_depth=8, min_samples_leaf=22, min_samples_split=30 ..........\n",
            "[CV]  max_depth=8, min_samples_leaf=22, min_samples_split=30, total=   0.5s\n",
            "[CV] max_depth=8, min_samples_leaf=22, min_samples_split=30 ..........\n",
            "[CV]  max_depth=8, min_samples_leaf=22, min_samples_split=30, total=   0.5s\n",
            "[CV] max_depth=8, min_samples_leaf=22, min_samples_split=30 ..........\n",
            "[CV]  max_depth=8, min_samples_leaf=22, min_samples_split=30, total=   0.5s\n",
            "[CV] max_depth=8, min_samples_leaf=22, min_samples_split=30 ..........\n",
            "[CV]  max_depth=8, min_samples_leaf=22, min_samples_split=30, total=   0.5s\n",
            "[CV] max_depth=10, min_samples_leaf=8, min_samples_split=10 ..........\n",
            "[CV]  max_depth=10, min_samples_leaf=8, min_samples_split=10, total=   0.6s\n",
            "[CV] max_depth=10, min_samples_leaf=8, min_samples_split=10 ..........\n",
            "[CV]  max_depth=10, min_samples_leaf=8, min_samples_split=10, total=   0.6s\n",
            "[CV] max_depth=10, min_samples_leaf=8, min_samples_split=10 ..........\n",
            "[CV]  max_depth=10, min_samples_leaf=8, min_samples_split=10, total=   0.6s\n",
            "[CV] max_depth=10, min_samples_leaf=8, min_samples_split=10 ..........\n",
            "[CV]  max_depth=10, min_samples_leaf=8, min_samples_split=10, total=   0.6s\n",
            "[CV] max_depth=10, min_samples_leaf=8, min_samples_split=10 ..........\n",
            "[CV]  max_depth=10, min_samples_leaf=8, min_samples_split=10, total=   0.6s\n",
            "[CV] max_depth=10, min_samples_leaf=8, min_samples_split=20 ..........\n",
            "[CV]  max_depth=10, min_samples_leaf=8, min_samples_split=20, total=   0.6s\n",
            "[CV] max_depth=10, min_samples_leaf=8, min_samples_split=20 ..........\n",
            "[CV]  max_depth=10, min_samples_leaf=8, min_samples_split=20, total=   0.6s\n",
            "[CV] max_depth=10, min_samples_leaf=8, min_samples_split=20 ..........\n",
            "[CV]  max_depth=10, min_samples_leaf=8, min_samples_split=20, total=   0.6s\n",
            "[CV] max_depth=10, min_samples_leaf=8, min_samples_split=20 ..........\n",
            "[CV]  max_depth=10, min_samples_leaf=8, min_samples_split=20, total=   0.6s\n",
            "[CV] max_depth=10, min_samples_leaf=8, min_samples_split=20 ..........\n",
            "[CV]  max_depth=10, min_samples_leaf=8, min_samples_split=20, total=   0.6s\n",
            "[CV] max_depth=10, min_samples_leaf=8, min_samples_split=30 ..........\n",
            "[CV]  max_depth=10, min_samples_leaf=8, min_samples_split=30, total=   0.6s\n",
            "[CV] max_depth=10, min_samples_leaf=8, min_samples_split=30 ..........\n",
            "[CV]  max_depth=10, min_samples_leaf=8, min_samples_split=30, total=   0.6s\n",
            "[CV] max_depth=10, min_samples_leaf=8, min_samples_split=30 ..........\n",
            "[CV]  max_depth=10, min_samples_leaf=8, min_samples_split=30, total=   0.6s\n",
            "[CV] max_depth=10, min_samples_leaf=8, min_samples_split=30 ..........\n",
            "[CV]  max_depth=10, min_samples_leaf=8, min_samples_split=30, total=   0.6s\n",
            "[CV] max_depth=10, min_samples_leaf=8, min_samples_split=30 ..........\n",
            "[CV]  max_depth=10, min_samples_leaf=8, min_samples_split=30, total=   0.6s\n",
            "[CV] max_depth=10, min_samples_leaf=16, min_samples_split=10 .........\n",
            "[CV]  max_depth=10, min_samples_leaf=16, min_samples_split=10, total=   0.6s\n",
            "[CV] max_depth=10, min_samples_leaf=16, min_samples_split=10 .........\n",
            "[CV]  max_depth=10, min_samples_leaf=16, min_samples_split=10, total=   0.6s\n",
            "[CV] max_depth=10, min_samples_leaf=16, min_samples_split=10 .........\n",
            "[CV]  max_depth=10, min_samples_leaf=16, min_samples_split=10, total=   0.6s\n",
            "[CV] max_depth=10, min_samples_leaf=16, min_samples_split=10 .........\n",
            "[CV]  max_depth=10, min_samples_leaf=16, min_samples_split=10, total=   0.6s\n",
            "[CV] max_depth=10, min_samples_leaf=16, min_samples_split=10 .........\n",
            "[CV]  max_depth=10, min_samples_leaf=16, min_samples_split=10, total=   0.6s\n",
            "[CV] max_depth=10, min_samples_leaf=16, min_samples_split=20 .........\n",
            "[CV]  max_depth=10, min_samples_leaf=16, min_samples_split=20, total=   0.6s\n",
            "[CV] max_depth=10, min_samples_leaf=16, min_samples_split=20 .........\n",
            "[CV]  max_depth=10, min_samples_leaf=16, min_samples_split=20, total=   0.6s\n",
            "[CV] max_depth=10, min_samples_leaf=16, min_samples_split=20 .........\n",
            "[CV]  max_depth=10, min_samples_leaf=16, min_samples_split=20, total=   0.6s\n",
            "[CV] max_depth=10, min_samples_leaf=16, min_samples_split=20 .........\n",
            "[CV]  max_depth=10, min_samples_leaf=16, min_samples_split=20, total=   0.6s\n",
            "[CV] max_depth=10, min_samples_leaf=16, min_samples_split=20 .........\n",
            "[CV]  max_depth=10, min_samples_leaf=16, min_samples_split=20, total=   0.6s\n",
            "[CV] max_depth=10, min_samples_leaf=16, min_samples_split=30 .........\n",
            "[CV]  max_depth=10, min_samples_leaf=16, min_samples_split=30, total=   0.6s\n",
            "[CV] max_depth=10, min_samples_leaf=16, min_samples_split=30 .........\n",
            "[CV]  max_depth=10, min_samples_leaf=16, min_samples_split=30, total=   0.6s\n",
            "[CV] max_depth=10, min_samples_leaf=16, min_samples_split=30 .........\n",
            "[CV]  max_depth=10, min_samples_leaf=16, min_samples_split=30, total=   0.6s\n",
            "[CV] max_depth=10, min_samples_leaf=16, min_samples_split=30 .........\n",
            "[CV]  max_depth=10, min_samples_leaf=16, min_samples_split=30, total=   0.6s\n",
            "[CV] max_depth=10, min_samples_leaf=16, min_samples_split=30 .........\n",
            "[CV]  max_depth=10, min_samples_leaf=16, min_samples_split=30, total=   0.6s\n",
            "[CV] max_depth=10, min_samples_leaf=22, min_samples_split=10 .........\n",
            "[CV]  max_depth=10, min_samples_leaf=22, min_samples_split=10, total=   0.6s\n",
            "[CV] max_depth=10, min_samples_leaf=22, min_samples_split=10 .........\n",
            "[CV]  max_depth=10, min_samples_leaf=22, min_samples_split=10, total=   0.6s\n",
            "[CV] max_depth=10, min_samples_leaf=22, min_samples_split=10 .........\n",
            "[CV]  max_depth=10, min_samples_leaf=22, min_samples_split=10, total=   0.6s\n",
            "[CV] max_depth=10, min_samples_leaf=22, min_samples_split=10 .........\n",
            "[CV]  max_depth=10, min_samples_leaf=22, min_samples_split=10, total=   0.6s\n",
            "[CV] max_depth=10, min_samples_leaf=22, min_samples_split=10 .........\n",
            "[CV]  max_depth=10, min_samples_leaf=22, min_samples_split=10, total=   0.6s\n",
            "[CV] max_depth=10, min_samples_leaf=22, min_samples_split=20 .........\n",
            "[CV]  max_depth=10, min_samples_leaf=22, min_samples_split=20, total=   0.6s\n",
            "[CV] max_depth=10, min_samples_leaf=22, min_samples_split=20 .........\n",
            "[CV]  max_depth=10, min_samples_leaf=22, min_samples_split=20, total=   0.6s\n",
            "[CV] max_depth=10, min_samples_leaf=22, min_samples_split=20 .........\n",
            "[CV]  max_depth=10, min_samples_leaf=22, min_samples_split=20, total=   0.6s\n",
            "[CV] max_depth=10, min_samples_leaf=22, min_samples_split=20 .........\n",
            "[CV]  max_depth=10, min_samples_leaf=22, min_samples_split=20, total=   0.6s\n",
            "[CV] max_depth=10, min_samples_leaf=22, min_samples_split=20 .........\n",
            "[CV]  max_depth=10, min_samples_leaf=22, min_samples_split=20, total=   0.6s\n",
            "[CV] max_depth=10, min_samples_leaf=22, min_samples_split=30 .........\n",
            "[CV]  max_depth=10, min_samples_leaf=22, min_samples_split=30, total=   0.6s\n",
            "[CV] max_depth=10, min_samples_leaf=22, min_samples_split=30 .........\n",
            "[CV]  max_depth=10, min_samples_leaf=22, min_samples_split=30, total=   0.6s\n",
            "[CV] max_depth=10, min_samples_leaf=22, min_samples_split=30 .........\n",
            "[CV]  max_depth=10, min_samples_leaf=22, min_samples_split=30, total=   0.6s\n",
            "[CV] max_depth=10, min_samples_leaf=22, min_samples_split=30 .........\n",
            "[CV]  max_depth=10, min_samples_leaf=22, min_samples_split=30, total=   0.6s\n",
            "[CV] max_depth=10, min_samples_leaf=22, min_samples_split=30 .........\n",
            "[CV]  max_depth=10, min_samples_leaf=22, min_samples_split=30, total=   0.6s\n"
          ]
        },
        {
          "output_type": "stream",
          "name": "stderr",
          "text": [
            "[Parallel(n_jobs=1)]: Done 180 out of 180 | elapsed:  1.4min finished\n"
          ]
        },
        {
          "output_type": "execute_result",
          "data": {
            "text/plain": [
              "GridSearchCV(cv=5, error_score=nan,\n",
              "             estimator=DecisionTreeRegressor(ccp_alpha=0.0, criterion='mse',\n",
              "                                             max_depth=None, max_features=None,\n",
              "                                             max_leaf_nodes=None,\n",
              "                                             min_impurity_decrease=0.0,\n",
              "                                             min_impurity_split=None,\n",
              "                                             min_samples_leaf=1,\n",
              "                                             min_samples_split=2,\n",
              "                                             min_weight_fraction_leaf=0.0,\n",
              "                                             presort='deprecated',\n",
              "                                             random_state=None,\n",
              "                                             splitter='best'),\n",
              "             iid='deprecated', n_jobs=None,\n",
              "             param_grid={'max_depth': [4, 6, 8, 10],\n",
              "                         'min_samples_leaf': [8, 16, 22],\n",
              "                         'min_samples_split': [10, 20, 30]},\n",
              "             pre_dispatch='2*n_jobs', refit=True, return_train_score=False,\n",
              "             scoring='r2', verbose=2)"
            ]
          },
          "metadata": {},
          "execution_count": 111
        }
      ]
    },
    {
      "cell_type": "code",
      "metadata": {
        "id": "cKNmaPTLtcrP",
        "outputId": "33c5895d-c844-4e6f-9038-fb48d962c565",
        "colab": {
          "base_uri": "https://localhost:8080/"
        }
      },
      "source": [
        "dt_grid.best_score_"
      ],
      "execution_count": 112,
      "outputs": [
        {
          "output_type": "execute_result",
          "data": {
            "text/plain": [
              "0.6793165600986913"
            ]
          },
          "metadata": {},
          "execution_count": 112
        }
      ]
    },
    {
      "cell_type": "code",
      "metadata": {
        "id": "I17C9XpvtgG2",
        "outputId": "12d9c78d-ec3c-4189-f458-63ccf336152b",
        "colab": {
          "base_uri": "https://localhost:8080/"
        }
      },
      "source": [
        "dt_grid.best_estimator_"
      ],
      "execution_count": 113,
      "outputs": [
        {
          "output_type": "execute_result",
          "data": {
            "text/plain": [
              "DecisionTreeRegressor(ccp_alpha=0.0, criterion='mse', max_depth=10,\n",
              "                      max_features=None, max_leaf_nodes=None,\n",
              "                      min_impurity_decrease=0.0, min_impurity_split=None,\n",
              "                      min_samples_leaf=22, min_samples_split=10,\n",
              "                      min_weight_fraction_leaf=0.0, presort='deprecated',\n",
              "                      random_state=None, splitter='best')"
            ]
          },
          "metadata": {},
          "execution_count": 113
        }
      ]
    },
    {
      "cell_type": "code",
      "metadata": {
        "id": "YeKGGUObt21D"
      },
      "source": [
        "y_pred_dt_train=dt_grid.predict(X_train)"
      ],
      "execution_count": 114,
      "outputs": []
    },
    {
      "cell_type": "code",
      "metadata": {
        "id": "-105973wt4n0"
      },
      "source": [
        "y_pred_dt_test=dt_grid.predict(X_test)"
      ],
      "execution_count": 115,
      "outputs": []
    },
    {
      "cell_type": "code",
      "metadata": {
        "id": "gZbXARVyt6W0",
        "outputId": "909f42c6-335c-46c0-d0ee-016b59e5a250",
        "colab": {
          "base_uri": "https://localhost:8080/"
        }
      },
      "source": [
        "dt_train_mse  = mean_squared_error(y_train, y_pred_dt_train)\n",
        "print(\"Train MSE :\" , dt_train_mse)\n",
        "\n",
        "dt_train_rmse = np.sqrt(dt_train_mse)\n",
        "print(\"Train RMSE :\" ,dt_train_rmse)\n",
        "\n",
        "dt_train_r2 = r2_score(y_train, y_pred_dt_train)\n",
        "print(\"Train R2 :\" ,dt_train_r2)\n",
        "\n",
        "dt_train_r2_= 1-(1-r2_score(y_train, y_pred_dt_train))*((X_train.shape[0]-1)/(X_train.shape[0]-X_train.shape[1]-1))\n",
        "print(\"Train Adjusted R2 : \", dt_train_r2_)"
      ],
      "execution_count": 116,
      "outputs": [
        {
          "output_type": "stream",
          "name": "stdout",
          "text": [
            "Train MSE : 0.034576417086760014\n",
            "Train RMSE : 0.1859473503085215\n",
            "Train R2 : 0.7099778895637111\n",
            "Train Adjusted R2 :  0.7099295439841087\n"
          ]
        }
      ]
    },
    {
      "cell_type": "code",
      "metadata": {
        "id": "w0574MS1t8OQ",
        "outputId": "c598d45f-42ee-4bec-86ca-3ee8a2e8a4a3",
        "colab": {
          "base_uri": "https://localhost:8080/"
        }
      },
      "source": [
        "dt_test_mse  = mean_squared_error(y_test, y_pred_dt_test)\n",
        "print(\"Test MSE :\" , dt_test_mse)\n",
        "dt_test_rmse = np.sqrt(dt_test_mse)\n",
        "print(\"Test RMSE :\" ,dt_test_rmse)\n",
        "\n",
        "dt_test_r2 = r2_score(y_test, y_pred_dt_test)\n",
        "print(\"Test R2 :\" ,dt_test_r2)\n",
        "\n",
        "dt_test_r2_= 1-(1-r2_score(y_test, y_pred_dt_test))*((X_test.shape[0]-1)/(X_test.shape[0]-X_test.shape[1]-1))\n",
        "print(\"Test Adjusted R2 : \", dt_test_r2_)"
      ],
      "execution_count": 119,
      "outputs": [
        {
          "output_type": "stream",
          "name": "stdout",
          "text": [
            "Test MSE : 0.039727776658348625\n",
            "Test RMSE : 0.19931827978975894\n",
            "Test R2 : 0.6752411058401014\n",
            "Test Adjusted R2 :  0.6750244464435889\n"
          ]
        }
      ]
    },
    {
      "cell_type": "markdown",
      "metadata": {
        "id": "FJDhAI3258Hf"
      },
      "source": [
        "evaulating the models"
      ]
    },
    {
      "cell_type": "code",
      "metadata": {
        "id": "Bfjel2cDxAeD"
      },
      "source": [
        "models= ['Linear Regression', 'Lasso Regression', 'Ridge Regression','DecisionTree Regressor']\n",
        "train_mse= [lr_train_mse, lasso_train_mse, ridge_train_mse, dt_train_mse]\n",
        "train_rmse= [lr_train_rmse, lasso_train_rmse, ridge_train_rmse, dt_train_rmse]\n",
        "train_r2= [lr_train_r2, lasso_train_r2, ridge_train_r2, dt_train_r2]\n",
        "train_adjusted_r2= [lr_train_r2_, lasso_train_r2_, ridge_train_r2_, dt_train_r2_]"
      ],
      "execution_count": 123,
      "outputs": []
    },
    {
      "cell_type": "code",
      "metadata": {
        "id": "TlNX6nxS6IlP"
      },
      "source": [
        "models= ['Linear Regression', 'Lasso Regression', 'Ridge Regression','DecisionTree Regressor']\n",
        "test_mse= [lr_test_mse, lasso_test_mse, ridge_test_mse, dt_test_mse]\n",
        "test_rmse= [lr_test_rmse, lasso_test_rmse, ridge_test_rmse, dt_test_rmse]\n",
        "test_r2= [lr_test_r2, lasso_test_r2, ridge_test_r2, dt_test_r2]\n",
        "test_adjusted_r2= [lr_test_r2_, lasso_test_r2_, ridge_test_r2_, dt_test_r2_]"
      ],
      "execution_count": 127,
      "outputs": []
    },
    {
      "cell_type": "code",
      "metadata": {
        "id": "uVE_TeiA6VLu",
        "outputId": "121f9238-e3cb-47b5-d9af-ca029636c3a2",
        "colab": {
          "base_uri": "https://localhost:8080/",
          "height": 172
        }
      },
      "source": [
        "Train_data_df=pd.DataFrame({'Model Name': models, 'Train MSE': train_mse, 'Train RMSE': train_rmse, 'Train R^2': train_r2, \n",
        "                            'Train Adjusted R^2': train_adjusted_r2})\n",
        "Train_data_df"
      ],
      "execution_count": 128,
      "outputs": [
        {
          "output_type": "execute_result",
          "data": {
            "text/html": [
              "<div>\n",
              "<style scoped>\n",
              "    .dataframe tbody tr th:only-of-type {\n",
              "        vertical-align: middle;\n",
              "    }\n",
              "\n",
              "    .dataframe tbody tr th {\n",
              "        vertical-align: top;\n",
              "    }\n",
              "\n",
              "    .dataframe thead th {\n",
              "        text-align: right;\n",
              "    }\n",
              "</style>\n",
              "<table border=\"1\" class=\"dataframe\">\n",
              "  <thead>\n",
              "    <tr style=\"text-align: right;\">\n",
              "      <th></th>\n",
              "      <th>Model Name</th>\n",
              "      <th>Train MSE</th>\n",
              "      <th>Train RMSE</th>\n",
              "      <th>Train R^2</th>\n",
              "      <th>Train Adjusted R^2</th>\n",
              "    </tr>\n",
              "  </thead>\n",
              "  <tbody>\n",
              "    <tr>\n",
              "      <th>0</th>\n",
              "      <td>Linear Regression</td>\n",
              "      <td>0.067905</td>\n",
              "      <td>0.260586</td>\n",
              "      <td>0.430420</td>\n",
              "      <td>0.430325</td>\n",
              "    </tr>\n",
              "    <tr>\n",
              "      <th>1</th>\n",
              "      <td>Lasso Regression</td>\n",
              "      <td>0.067905</td>\n",
              "      <td>0.260586</td>\n",
              "      <td>0.430420</td>\n",
              "      <td>0.430325</td>\n",
              "    </tr>\n",
              "    <tr>\n",
              "      <th>2</th>\n",
              "      <td>Ridge Regression</td>\n",
              "      <td>0.067905</td>\n",
              "      <td>0.260586</td>\n",
              "      <td>0.430420</td>\n",
              "      <td>0.430325</td>\n",
              "    </tr>\n",
              "    <tr>\n",
              "      <th>3</th>\n",
              "      <td>DecisionTree Regressor</td>\n",
              "      <td>0.034576</td>\n",
              "      <td>0.185947</td>\n",
              "      <td>0.709978</td>\n",
              "      <td>0.709930</td>\n",
              "    </tr>\n",
              "  </tbody>\n",
              "</table>\n",
              "</div>"
            ],
            "text/plain": [
              "               Model Name  Train MSE  Train RMSE  Train R^2  Train Adjusted R^2\n",
              "0       Linear Regression   0.067905    0.260586   0.430420            0.430325\n",
              "1        Lasso Regression   0.067905    0.260586   0.430420            0.430325\n",
              "2        Ridge Regression   0.067905    0.260586   0.430420            0.430325\n",
              "3  DecisionTree Regressor   0.034576    0.185947   0.709978            0.709930"
            ]
          },
          "metadata": {},
          "execution_count": 128
        }
      ]
    },
    {
      "cell_type": "code",
      "metadata": {
        "id": "iV2n9x9w8Cv_",
        "outputId": "f6be397a-aa0f-4bf0-c530-4755b5e25b1d",
        "colab": {
          "base_uri": "https://localhost:8080/",
          "height": 172
        }
      },
      "source": [
        "Test_data_df= pd.DataFrame({'Model Name': models, 'Test MSE': test_mse, 'Test RMSE': test_rmse, 'Test R^2': test_r2, \n",
        "                            'Test Adjusted R^2': test_adjusted_r2})\n",
        "Test_data_df"
      ],
      "execution_count": 129,
      "outputs": [
        {
          "output_type": "execute_result",
          "data": {
            "text/html": [
              "<div>\n",
              "<style scoped>\n",
              "    .dataframe tbody tr th:only-of-type {\n",
              "        vertical-align: middle;\n",
              "    }\n",
              "\n",
              "    .dataframe tbody tr th {\n",
              "        vertical-align: top;\n",
              "    }\n",
              "\n",
              "    .dataframe thead th {\n",
              "        text-align: right;\n",
              "    }\n",
              "</style>\n",
              "<table border=\"1\" class=\"dataframe\">\n",
              "  <thead>\n",
              "    <tr style=\"text-align: right;\">\n",
              "      <th></th>\n",
              "      <th>Model Name</th>\n",
              "      <th>Test MSE</th>\n",
              "      <th>Test RMSE</th>\n",
              "      <th>Test R^2</th>\n",
              "      <th>Test Adjusted R^2</th>\n",
              "    </tr>\n",
              "  </thead>\n",
              "  <tbody>\n",
              "    <tr>\n",
              "      <th>0</th>\n",
              "      <td>Linear Regression</td>\n",
              "      <td>0.070446</td>\n",
              "      <td>0.265416</td>\n",
              "      <td>0.424134</td>\n",
              "      <td>0.423749</td>\n",
              "    </tr>\n",
              "    <tr>\n",
              "      <th>1</th>\n",
              "      <td>Lasso Regression</td>\n",
              "      <td>0.070446</td>\n",
              "      <td>0.265416</td>\n",
              "      <td>0.424133</td>\n",
              "      <td>0.423749</td>\n",
              "    </tr>\n",
              "    <tr>\n",
              "      <th>2</th>\n",
              "      <td>Ridge Regression</td>\n",
              "      <td>0.070445</td>\n",
              "      <td>0.265415</td>\n",
              "      <td>0.424138</td>\n",
              "      <td>0.423754</td>\n",
              "    </tr>\n",
              "    <tr>\n",
              "      <th>3</th>\n",
              "      <td>DecisionTree Regressor</td>\n",
              "      <td>0.039728</td>\n",
              "      <td>0.199318</td>\n",
              "      <td>0.675241</td>\n",
              "      <td>0.675024</td>\n",
              "    </tr>\n",
              "  </tbody>\n",
              "</table>\n",
              "</div>"
            ],
            "text/plain": [
              "               Model Name  Test MSE  Test RMSE  Test R^2  Test Adjusted R^2\n",
              "0       Linear Regression  0.070446   0.265416  0.424134           0.423749\n",
              "1        Lasso Regression  0.070446   0.265416  0.424133           0.423749\n",
              "2        Ridge Regression  0.070445   0.265415  0.424138           0.423754\n",
              "3  DecisionTree Regressor  0.039728   0.199318  0.675241           0.675024"
            ]
          },
          "metadata": {},
          "execution_count": 129
        }
      ]
    },
    {
      "cell_type": "code",
      "metadata": {
        "id": "h1MTwY_58F3V"
      },
      "source": [
        ""
      ],
      "execution_count": null,
      "outputs": []
    }
  ]
}